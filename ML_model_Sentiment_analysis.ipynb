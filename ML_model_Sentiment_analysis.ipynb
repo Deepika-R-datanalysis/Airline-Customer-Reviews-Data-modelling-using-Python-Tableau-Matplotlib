{
  "nbformat": 4,
  "nbformat_minor": 0,
  "metadata": {
    "colab": {
      "provenance": []
    },
    "kernelspec": {
      "name": "python3",
      "display_name": "Python 3"
    },
    "language_info": {
      "name": "python"
    }
  },
  "cells": [
    {
      "cell_type": "code",
      "execution_count": 135,
      "metadata": {
        "id": "bbGq_ziFIAkn"
      },
      "outputs": [],
      "source": [
        "import pandas as pd\n",
        "import numpy as np\n",
        "import seaborn as sns\n",
        "import matplotlib.pyplot as plt\n",
        "import re\n",
        "from nltk.corpus import stopwords\n",
        "from sklearn.feature_extraction.text import TfidfVectorizer\n",
        "from sklearn.model_selection import train_test_split\n",
        "from sklearn.linear_model import LogisticRegression\n",
        "from sklearn.metrics import accuracy_score\n",
        "\n"
      ]
    },
    {
      "cell_type": "code",
      "source": [
        "import nltk\n",
        "nltk.download('stopwords')"
      ],
      "metadata": {
        "colab": {
          "base_uri": "https://localhost:8080/"
        },
        "id": "UAxPCSt-XEfJ",
        "outputId": "f64fd943-6768-4d69-c599-f1586008dc01"
      },
      "execution_count": 136,
      "outputs": [
        {
          "output_type": "stream",
          "name": "stderr",
          "text": [
            "[nltk_data] Downloading package stopwords to /root/nltk_data...\n",
            "[nltk_data]   Package stopwords is already up-to-date!\n"
          ]
        },
        {
          "output_type": "execute_result",
          "data": {
            "text/plain": [
              "True"
            ]
          },
          "metadata": {},
          "execution_count": 136
        }
      ]
    },
    {
      "cell_type": "code",
      "source": [
        "print(stopwords.words('english'))"
      ],
      "metadata": {
        "colab": {
          "base_uri": "https://localhost:8080/"
        },
        "id": "QW9wNjozXR2h",
        "outputId": "e53fb0e0-aae6-4864-8187-b108fea297a4"
      },
      "execution_count": 137,
      "outputs": [
        {
          "output_type": "stream",
          "name": "stdout",
          "text": [
            "['i', 'me', 'my', 'myself', 'we', 'our', 'ours', 'ourselves', 'you', \"you're\", \"you've\", \"you'll\", \"you'd\", 'your', 'yours', 'yourself', 'yourselves', 'he', 'him', 'his', 'himself', 'she', \"she's\", 'her', 'hers', 'herself', 'it', \"it's\", 'its', 'itself', 'they', 'them', 'their', 'theirs', 'themselves', 'what', 'which', 'who', 'whom', 'this', 'that', \"that'll\", 'these', 'those', 'am', 'is', 'are', 'was', 'were', 'be', 'been', 'being', 'have', 'has', 'had', 'having', 'do', 'does', 'did', 'doing', 'a', 'an', 'the', 'and', 'but', 'if', 'or', 'because', 'as', 'until', 'while', 'of', 'at', 'by', 'for', 'with', 'about', 'against', 'between', 'into', 'through', 'during', 'before', 'after', 'above', 'below', 'to', 'from', 'up', 'down', 'in', 'out', 'on', 'off', 'over', 'under', 'again', 'further', 'then', 'once', 'here', 'there', 'when', 'where', 'why', 'how', 'all', 'any', 'both', 'each', 'few', 'more', 'most', 'other', 'some', 'such', 'no', 'nor', 'not', 'only', 'own', 'same', 'so', 'than', 'too', 'very', 's', 't', 'can', 'will', 'just', 'don', \"don't\", 'should', \"should've\", 'now', 'd', 'll', 'm', 'o', 're', 've', 'y', 'ain', 'aren', \"aren't\", 'couldn', \"couldn't\", 'didn', \"didn't\", 'doesn', \"doesn't\", 'hadn', \"hadn't\", 'hasn', \"hasn't\", 'haven', \"haven't\", 'isn', \"isn't\", 'ma', 'mightn', \"mightn't\", 'mustn', \"mustn't\", 'needn', \"needn't\", 'shan', \"shan't\", 'shouldn', \"shouldn't\", 'wasn', \"wasn't\", 'weren', \"weren't\", 'won', \"won't\", 'wouldn', \"wouldn't\"]\n"
          ]
        }
      ]
    },
    {
      "cell_type": "code",
      "source": [
        "dataset = pd.read_csv('/content/reviews_with_sentiment.csv')\n",
        "dataset.head(10)"
      ],
      "metadata": {
        "colab": {
          "base_uri": "https://localhost:8080/",
          "height": 1000
        },
        "id": "Cv8Te1W_WDGT",
        "outputId": "c2527faa-d672-4411-d924-7a4edbeda4aa"
      },
      "execution_count": 138,
      "outputs": [
        {
          "output_type": "execute_result",
          "data": {
            "text/plain": [
              "   3rd June 2024  \\\n",
              "0  1st June 2024   \n",
              "1  1st June 2024   \n",
              "2  31st May 2024   \n",
              "3  31st May 2024   \n",
              "4  30th May 2024   \n",
              "5  29th May 2024   \n",
              "6  26th May 2024   \n",
              "7  20th May 2024   \n",
              "8  18th May 2024   \n",
              "\n",
              "  ✅ Trip Verified | My partner and I were on the BA2166 return flight from Tampa to Gatwick and I was very excited as had paid for a upgrade to Business Class, my partner flies BC with BA a lot for work but this was only my second time, we decided as it was the end of our holiday that have this will help us get some quality sleep. Unfortunately that was not to be. Also in Business Class were two families with children under 5. It was a very long flight listening to a toddler not just crying but screaming for seven out of the eight hours. Now its not the childrens fault, I do however think that the cabin crew could have maybe internvene and helped a little more but also BA should have informed us as we paid alot of money and quite frankly could have saved that money and just had economy ticket as at least we would be a few grand better off. What with that and how the checking in ground staff were treating us as if we were an inconvenience we will rethink BA moving forward.  \\\n",
              "0  Not Verified |  We had a Premium Economy retur...                                                                                                                                                                                                                                                                                                                                                                                                                                                                                                                                                                                                                                                                                                                                                                                                                                                                                                                                                                         \n",
              "1  ✅ Trip Verified |  I should like to review my ...                                                                                                                                                                                                                                                                                                                                                                                                                                                                                                                                                                                                                                                                                                                                                                                                                                                                                                                                                                         \n",
              "2  ✅ Trip Verified | We have flown with British A...                                                                                                                                                                                                                                                                                                                                                                                                                                                                                                                                                                                                                                                                                                                                                                                                                                                                                                                                                                         \n",
              "3  ✅ Trip Verified | I sat in the plane at Vienna...                                                                                                                                                                                                                                                                                                                                                                                                                                                                                                                                                                                                                                                                                                                                                                                                                                                                                                                                                                         \n",
              "4  ✅ Trip Verified | It is almost 11pm we were su...                                                                                                                                                                                                                                                                                                                                                                                                                                                                                                                                                                                                                                                                                                                                                                                                                                                                                                                                                                         \n",
              "5  ✅ Trip Verified |  I booked a long haul flight...                                                                                                                                                                                                                                                                                                                                                                                                                                                                                                                                                                                                                                                                                                                                                                                                                                                                                                                                                                         \n",
              "6  ✅ Trip Verified |  A premium price for a sub-p...                                                                                                                                                                                                                                                                                                                                                                                                                                                                                                                                                                                                                                                                                                                                                                                                                                                                                                                                                                         \n",
              "7  ✅ Trip Verified |  Really terrible user experi...                                                                                                                                                                                                                                                                                                                                                                                                                                                                                                                                                                                                                                                                                                                                                                                                                                                                                                                                                                         \n",
              "8  ✅ Trip Verified | Very impressed with BA. Chec...                                                                                                                                                                                                                                                                                                                                                                                                                                                                                                                                                                                                                                                                                                                                                                                                                                                                                                                                                                         \n",
              "\n",
              "   0.044583333333333336  Positive  \n",
              "0             -0.018618  Negative  \n",
              "1              0.225600  Positive  \n",
              "2             -0.056360  Negative  \n",
              "3             -0.032143  Negative  \n",
              "4             -0.233333  Negative  \n",
              "5              0.102778  Positive  \n",
              "6             -0.122222  Negative  \n",
              "7             -0.050000  Negative  \n",
              "8              0.282548  Positive  "
            ],
            "text/html": [
              "\n",
              "  <div id=\"df-ddb7a9b2-7c55-48fc-9b0d-456f9f59380a\" class=\"colab-df-container\">\n",
              "    <div>\n",
              "<style scoped>\n",
              "    .dataframe tbody tr th:only-of-type {\n",
              "        vertical-align: middle;\n",
              "    }\n",
              "\n",
              "    .dataframe tbody tr th {\n",
              "        vertical-align: top;\n",
              "    }\n",
              "\n",
              "    .dataframe thead th {\n",
              "        text-align: right;\n",
              "    }\n",
              "</style>\n",
              "<table border=\"1\" class=\"dataframe\">\n",
              "  <thead>\n",
              "    <tr style=\"text-align: right;\">\n",
              "      <th></th>\n",
              "      <th>3rd June 2024</th>\n",
              "      <th>✅ Trip Verified | My partner and I were on the BA2166 return flight from Tampa to Gatwick and I was very excited as had paid for a upgrade to Business Class, my partner flies BC with BA a lot for work but this was only my second time, we decided as it was the end of our holiday that have this will help us get some quality sleep. Unfortunately that was not to be. Also in Business Class were two families with children under 5. It was a very long flight listening to a toddler not just crying but screaming for seven out of the eight hours. Now its not the childrens fault, I do however think that the cabin crew could have maybe internvene and helped a little more but also BA should have informed us as we paid alot of money and quite frankly could have saved that money and just had economy ticket as at least we would be a few grand better off. What with that and how the checking in ground staff were treating us as if we were an inconvenience we will rethink BA moving forward.</th>\n",
              "      <th>0.044583333333333336</th>\n",
              "      <th>Positive</th>\n",
              "    </tr>\n",
              "  </thead>\n",
              "  <tbody>\n",
              "    <tr>\n",
              "      <th>0</th>\n",
              "      <td>1st June 2024</td>\n",
              "      <td>Not Verified |  We had a Premium Economy retur...</td>\n",
              "      <td>-0.018618</td>\n",
              "      <td>Negative</td>\n",
              "    </tr>\n",
              "    <tr>\n",
              "      <th>1</th>\n",
              "      <td>1st June 2024</td>\n",
              "      <td>✅ Trip Verified |  I should like to review my ...</td>\n",
              "      <td>0.225600</td>\n",
              "      <td>Positive</td>\n",
              "    </tr>\n",
              "    <tr>\n",
              "      <th>2</th>\n",
              "      <td>31st May 2024</td>\n",
              "      <td>✅ Trip Verified | We have flown with British A...</td>\n",
              "      <td>-0.056360</td>\n",
              "      <td>Negative</td>\n",
              "    </tr>\n",
              "    <tr>\n",
              "      <th>3</th>\n",
              "      <td>31st May 2024</td>\n",
              "      <td>✅ Trip Verified | I sat in the plane at Vienna...</td>\n",
              "      <td>-0.032143</td>\n",
              "      <td>Negative</td>\n",
              "    </tr>\n",
              "    <tr>\n",
              "      <th>4</th>\n",
              "      <td>30th May 2024</td>\n",
              "      <td>✅ Trip Verified | It is almost 11pm we were su...</td>\n",
              "      <td>-0.233333</td>\n",
              "      <td>Negative</td>\n",
              "    </tr>\n",
              "    <tr>\n",
              "      <th>5</th>\n",
              "      <td>29th May 2024</td>\n",
              "      <td>✅ Trip Verified |  I booked a long haul flight...</td>\n",
              "      <td>0.102778</td>\n",
              "      <td>Positive</td>\n",
              "    </tr>\n",
              "    <tr>\n",
              "      <th>6</th>\n",
              "      <td>26th May 2024</td>\n",
              "      <td>✅ Trip Verified |  A premium price for a sub-p...</td>\n",
              "      <td>-0.122222</td>\n",
              "      <td>Negative</td>\n",
              "    </tr>\n",
              "    <tr>\n",
              "      <th>7</th>\n",
              "      <td>20th May 2024</td>\n",
              "      <td>✅ Trip Verified |  Really terrible user experi...</td>\n",
              "      <td>-0.050000</td>\n",
              "      <td>Negative</td>\n",
              "    </tr>\n",
              "    <tr>\n",
              "      <th>8</th>\n",
              "      <td>18th May 2024</td>\n",
              "      <td>✅ Trip Verified | Very impressed with BA. Chec...</td>\n",
              "      <td>0.282548</td>\n",
              "      <td>Positive</td>\n",
              "    </tr>\n",
              "  </tbody>\n",
              "</table>\n",
              "</div>\n",
              "    <div class=\"colab-df-buttons\">\n",
              "\n",
              "  <div class=\"colab-df-container\">\n",
              "    <button class=\"colab-df-convert\" onclick=\"convertToInteractive('df-ddb7a9b2-7c55-48fc-9b0d-456f9f59380a')\"\n",
              "            title=\"Convert this dataframe to an interactive table.\"\n",
              "            style=\"display:none;\">\n",
              "\n",
              "  <svg xmlns=\"http://www.w3.org/2000/svg\" height=\"24px\" viewBox=\"0 -960 960 960\">\n",
              "    <path d=\"M120-120v-720h720v720H120Zm60-500h600v-160H180v160Zm220 220h160v-160H400v160Zm0 220h160v-160H400v160ZM180-400h160v-160H180v160Zm440 0h160v-160H620v160ZM180-180h160v-160H180v160Zm440 0h160v-160H620v160Z\"/>\n",
              "  </svg>\n",
              "    </button>\n",
              "\n",
              "  <style>\n",
              "    .colab-df-container {\n",
              "      display:flex;\n",
              "      gap: 12px;\n",
              "    }\n",
              "\n",
              "    .colab-df-convert {\n",
              "      background-color: #E8F0FE;\n",
              "      border: none;\n",
              "      border-radius: 50%;\n",
              "      cursor: pointer;\n",
              "      display: none;\n",
              "      fill: #1967D2;\n",
              "      height: 32px;\n",
              "      padding: 0 0 0 0;\n",
              "      width: 32px;\n",
              "    }\n",
              "\n",
              "    .colab-df-convert:hover {\n",
              "      background-color: #E2EBFA;\n",
              "      box-shadow: 0px 1px 2px rgba(60, 64, 67, 0.3), 0px 1px 3px 1px rgba(60, 64, 67, 0.15);\n",
              "      fill: #174EA6;\n",
              "    }\n",
              "\n",
              "    .colab-df-buttons div {\n",
              "      margin-bottom: 4px;\n",
              "    }\n",
              "\n",
              "    [theme=dark] .colab-df-convert {\n",
              "      background-color: #3B4455;\n",
              "      fill: #D2E3FC;\n",
              "    }\n",
              "\n",
              "    [theme=dark] .colab-df-convert:hover {\n",
              "      background-color: #434B5C;\n",
              "      box-shadow: 0px 1px 3px 1px rgba(0, 0, 0, 0.15);\n",
              "      filter: drop-shadow(0px 1px 2px rgba(0, 0, 0, 0.3));\n",
              "      fill: #FFFFFF;\n",
              "    }\n",
              "  </style>\n",
              "\n",
              "    <script>\n",
              "      const buttonEl =\n",
              "        document.querySelector('#df-ddb7a9b2-7c55-48fc-9b0d-456f9f59380a button.colab-df-convert');\n",
              "      buttonEl.style.display =\n",
              "        google.colab.kernel.accessAllowed ? 'block' : 'none';\n",
              "\n",
              "      async function convertToInteractive(key) {\n",
              "        const element = document.querySelector('#df-ddb7a9b2-7c55-48fc-9b0d-456f9f59380a');\n",
              "        const dataTable =\n",
              "          await google.colab.kernel.invokeFunction('convertToInteractive',\n",
              "                                                    [key], {});\n",
              "        if (!dataTable) return;\n",
              "\n",
              "        const docLinkHtml = 'Like what you see? Visit the ' +\n",
              "          '<a target=\"_blank\" href=https://colab.research.google.com/notebooks/data_table.ipynb>data table notebook</a>'\n",
              "          + ' to learn more about interactive tables.';\n",
              "        element.innerHTML = '';\n",
              "        dataTable['output_type'] = 'display_data';\n",
              "        await google.colab.output.renderOutput(dataTable, element);\n",
              "        const docLink = document.createElement('div');\n",
              "        docLink.innerHTML = docLinkHtml;\n",
              "        element.appendChild(docLink);\n",
              "      }\n",
              "    </script>\n",
              "  </div>\n",
              "\n",
              "\n",
              "<div id=\"df-b95966c2-d9a6-49b5-b0dd-d5deb77dc821\">\n",
              "  <button class=\"colab-df-quickchart\" onclick=\"quickchart('df-b95966c2-d9a6-49b5-b0dd-d5deb77dc821')\"\n",
              "            title=\"Suggest charts\"\n",
              "            style=\"display:none;\">\n",
              "\n",
              "<svg xmlns=\"http://www.w3.org/2000/svg\" height=\"24px\"viewBox=\"0 0 24 24\"\n",
              "     width=\"24px\">\n",
              "    <g>\n",
              "        <path d=\"M19 3H5c-1.1 0-2 .9-2 2v14c0 1.1.9 2 2 2h14c1.1 0 2-.9 2-2V5c0-1.1-.9-2-2-2zM9 17H7v-7h2v7zm4 0h-2V7h2v10zm4 0h-2v-4h2v4z\"/>\n",
              "    </g>\n",
              "</svg>\n",
              "  </button>\n",
              "\n",
              "<style>\n",
              "  .colab-df-quickchart {\n",
              "      --bg-color: #E8F0FE;\n",
              "      --fill-color: #1967D2;\n",
              "      --hover-bg-color: #E2EBFA;\n",
              "      --hover-fill-color: #174EA6;\n",
              "      --disabled-fill-color: #AAA;\n",
              "      --disabled-bg-color: #DDD;\n",
              "  }\n",
              "\n",
              "  [theme=dark] .colab-df-quickchart {\n",
              "      --bg-color: #3B4455;\n",
              "      --fill-color: #D2E3FC;\n",
              "      --hover-bg-color: #434B5C;\n",
              "      --hover-fill-color: #FFFFFF;\n",
              "      --disabled-bg-color: #3B4455;\n",
              "      --disabled-fill-color: #666;\n",
              "  }\n",
              "\n",
              "  .colab-df-quickchart {\n",
              "    background-color: var(--bg-color);\n",
              "    border: none;\n",
              "    border-radius: 50%;\n",
              "    cursor: pointer;\n",
              "    display: none;\n",
              "    fill: var(--fill-color);\n",
              "    height: 32px;\n",
              "    padding: 0;\n",
              "    width: 32px;\n",
              "  }\n",
              "\n",
              "  .colab-df-quickchart:hover {\n",
              "    background-color: var(--hover-bg-color);\n",
              "    box-shadow: 0 1px 2px rgba(60, 64, 67, 0.3), 0 1px 3px 1px rgba(60, 64, 67, 0.15);\n",
              "    fill: var(--button-hover-fill-color);\n",
              "  }\n",
              "\n",
              "  .colab-df-quickchart-complete:disabled,\n",
              "  .colab-df-quickchart-complete:disabled:hover {\n",
              "    background-color: var(--disabled-bg-color);\n",
              "    fill: var(--disabled-fill-color);\n",
              "    box-shadow: none;\n",
              "  }\n",
              "\n",
              "  .colab-df-spinner {\n",
              "    border: 2px solid var(--fill-color);\n",
              "    border-color: transparent;\n",
              "    border-bottom-color: var(--fill-color);\n",
              "    animation:\n",
              "      spin 1s steps(1) infinite;\n",
              "  }\n",
              "\n",
              "  @keyframes spin {\n",
              "    0% {\n",
              "      border-color: transparent;\n",
              "      border-bottom-color: var(--fill-color);\n",
              "      border-left-color: var(--fill-color);\n",
              "    }\n",
              "    20% {\n",
              "      border-color: transparent;\n",
              "      border-left-color: var(--fill-color);\n",
              "      border-top-color: var(--fill-color);\n",
              "    }\n",
              "    30% {\n",
              "      border-color: transparent;\n",
              "      border-left-color: var(--fill-color);\n",
              "      border-top-color: var(--fill-color);\n",
              "      border-right-color: var(--fill-color);\n",
              "    }\n",
              "    40% {\n",
              "      border-color: transparent;\n",
              "      border-right-color: var(--fill-color);\n",
              "      border-top-color: var(--fill-color);\n",
              "    }\n",
              "    60% {\n",
              "      border-color: transparent;\n",
              "      border-right-color: var(--fill-color);\n",
              "    }\n",
              "    80% {\n",
              "      border-color: transparent;\n",
              "      border-right-color: var(--fill-color);\n",
              "      border-bottom-color: var(--fill-color);\n",
              "    }\n",
              "    90% {\n",
              "      border-color: transparent;\n",
              "      border-bottom-color: var(--fill-color);\n",
              "    }\n",
              "  }\n",
              "</style>\n",
              "\n",
              "  <script>\n",
              "    async function quickchart(key) {\n",
              "      const quickchartButtonEl =\n",
              "        document.querySelector('#' + key + ' button');\n",
              "      quickchartButtonEl.disabled = true;  // To prevent multiple clicks.\n",
              "      quickchartButtonEl.classList.add('colab-df-spinner');\n",
              "      try {\n",
              "        const charts = await google.colab.kernel.invokeFunction(\n",
              "            'suggestCharts', [key], {});\n",
              "      } catch (error) {\n",
              "        console.error('Error during call to suggestCharts:', error);\n",
              "      }\n",
              "      quickchartButtonEl.classList.remove('colab-df-spinner');\n",
              "      quickchartButtonEl.classList.add('colab-df-quickchart-complete');\n",
              "    }\n",
              "    (() => {\n",
              "      let quickchartButtonEl =\n",
              "        document.querySelector('#df-b95966c2-d9a6-49b5-b0dd-d5deb77dc821 button');\n",
              "      quickchartButtonEl.style.display =\n",
              "        google.colab.kernel.accessAllowed ? 'block' : 'none';\n",
              "    })();\n",
              "  </script>\n",
              "</div>\n",
              "\n",
              "    </div>\n",
              "  </div>\n"
            ],
            "application/vnd.google.colaboratory.intrinsic+json": {
              "type": "dataframe",
              "variable_name": "dataset",
              "summary": "{\n  \"name\": \"dataset\",\n  \"rows\": 9,\n  \"fields\": [\n    {\n      \"column\": \"3rd June 2024\",\n      \"properties\": {\n        \"dtype\": \"string\",\n        \"num_unique_values\": 7,\n        \"samples\": [\n          \"1st June 2024\",\n          \"31st May 2024\",\n          \"20th May 2024\"\n        ],\n        \"semantic_type\": \"\",\n        \"description\": \"\"\n      }\n    },\n    {\n      \"column\": \"\\u2705 Trip Verified | My partner and I were on the BA2166 return flight from Tampa to Gatwick and I was very excited as had paid for a upgrade to Business Class, my partner flies BC with BA a lot for work but this was only my second time, we decided as it was the end of our holiday that have this will help us get some quality sleep. Unfortunately that was not to be. Also in Business Class were two families with children under 5. It was a very long flight listening to a toddler not just crying but screaming for seven out of the eight hours. Now its not the childrens fault, I do however think that the cabin crew could have maybe internvene and helped a little more but also BA should have informed us as we paid alot of money and quite frankly could have saved that money and just had economy ticket as at least we would be a few grand better off. What with that and how the checking in ground staff were treating us as if we were an inconvenience we will rethink BA moving forward.\",\n      \"properties\": {\n        \"dtype\": \"string\",\n        \"num_unique_values\": 9,\n        \"samples\": [\n          \"\\u2705 Trip Verified |  Really terrible user experience. British Airways website is full of glitches. I can't even choose my own seat due to cookie problems. Never had this problem with any other airlines.\",\n          \"\\u2705 Trip Verified |  I should like to review my flight with British Airways from Hannover to London Heathrow. Firstly, the website was very easy to use, however, I object to the policy put in place with regards to having to pay for preferred seating. Checking-in online was a very easy process other than being presented with the fee to select a seat. At the boarding gate in Hannover the staff were superb, they insisted that people with larger bags turned over the bags for check-in. I was included in this. The staff were very fair and polite and imposed this policy evenly and in a firm but polite manner. The flight took off reasonably on-time. The cabin crew were very good and coped really well with what was an entirely full flight. The now usual small bottle of water and a tiny snack the size of a UK 50p coin were issued to the passengers. On this flight, the Captain was very vocal in the nicest possible way. He oozed a sense of professionalism and was well spoken with clear and informative announcements. Disembarkation was orderly, however the cabin crew were nowhere to be seen when leaving the aircraft. Given that this was a very short flight and given the full nature of the flight too the cabin crew deserve an applause for their professionalism. This experience has turned around my less than positive experience with this airline a few months ago. Well done to the ground staff and cabin crew for making this a pleasant and civilized journey!\",\n          \"\\u2705 Trip Verified |  I booked a long haul flight to Singapore with British Airways because I thought I could rely on them to provide good and reliable service. Unfortunately this wasn't the case hence this review. Knowing I would be able to fall asleep watching movies or TV shows on their in flight entertainment system was something I was looking forward to on this overnight flight. However, my console didn't work and instead I had a loud screaming toddler in the seat behind me that kept kicking my seat and some babies in Front. Only two hours into this already hell of a journey were we told that we should buy the WiFi pass for which we will get fully reimbursed. I followed up several times throughout the flight with the cabin crew who assured me they will take a note of my seat number and someone from customer service will contact me with reimbursement. This wasn't the case. After waiting for several days I contacted them myself and instead of the 21.99 reimbursement that I can use towards a nice meal on holiday they've given me 5000 AVIOs. I never want to fly with them again so why give me service points when I was told by cabin crew I would be refunded - the only reason I even bought this WiFi pass as it's not even good enough to watch anything with because the connection quality is so poor. What a waste of a flight and \\u00a322. These are 14 hrs of my life I will never get back and forever remember. I will remember BA as the brand that once was that no longer is. Their cabin crew seemed overworked and overwhelmed and even when you pressed the attention buzzer no one came. If you can avoid booking with BA go ahead.\"\n        ],\n        \"semantic_type\": \"\",\n        \"description\": \"\"\n      }\n    },\n    {\n      \"column\": \"0.044583333333333336\",\n      \"properties\": {\n        \"dtype\": \"number\",\n        \"std\": 0.1645670906870284,\n        \"min\": -0.2333333333333333,\n        \"max\": 0.282548309178744,\n        \"num_unique_values\": 9,\n        \"samples\": [\n          -0.05,\n          0.225600233100233,\n          0.1027777777777778\n        ],\n        \"semantic_type\": \"\",\n        \"description\": \"\"\n      }\n    },\n    {\n      \"column\": \"Positive\",\n      \"properties\": {\n        \"dtype\": \"category\",\n        \"num_unique_values\": 2,\n        \"samples\": [\n          \"Positive\",\n          \"Negative\"\n        ],\n        \"semantic_type\": \"\",\n        \"description\": \"\"\n      }\n    }\n  ]\n}"
            }
          },
          "metadata": {},
          "execution_count": 138
        }
      ]
    },
    {
      "cell_type": "code",
      "source": [
        "dataset.shape"
      ],
      "metadata": {
        "colab": {
          "base_uri": "https://localhost:8080/"
        },
        "id": "JHQpSi8zYd6p",
        "outputId": "30c7eb49-670b-4667-c40e-1d58a71e52ed"
      },
      "execution_count": 139,
      "outputs": [
        {
          "output_type": "execute_result",
          "data": {
            "text/plain": [
              "(9, 4)"
            ]
          },
          "metadata": {},
          "execution_count": 139
        }
      ]
    },
    {
      "cell_type": "code",
      "source": [
        "dataset.info()"
      ],
      "metadata": {
        "colab": {
          "base_uri": "https://localhost:8080/"
        },
        "id": "H6Xlt5ytYjED",
        "outputId": "f983c70a-7340-48f6-9995-9f498ae42a69"
      },
      "execution_count": 140,
      "outputs": [
        {
          "output_type": "stream",
          "name": "stdout",
          "text": [
            "<class 'pandas.core.frame.DataFrame'>\n",
            "RangeIndex: 9 entries, 0 to 8\n",
            "Data columns (total 4 columns):\n",
            " #   Column                                                                                                                                                                                                                                                                                                                                                                                                                                                                                                                                                                                                                                                                                                                                                                                                                                                                                                                                                                                                                    Non-Null Count  Dtype  \n",
            "---  ------                                                                                                                                                                                                                                                                                                                                                                                                                                                                                                                                                                                                                                                                                                                                                                                                                                                                                                                                                                                                                    --------------  -----  \n",
            " 0   3rd June 2024                                                                                                                                                                                                                                                                                                                                                                                                                                                                                                                                                                                                                                                                                                                                                                                                                                                                                                                                                                                                             9 non-null      object \n",
            " 1   ✅ Trip Verified | My partner and I were on the BA2166 return flight from Tampa to Gatwick and I was very excited as had paid for a upgrade to Business Class, my partner flies BC with BA a lot for work but this was only my second time, we decided as it was the end of our holiday that have this will help us get some quality sleep. Unfortunately that was not to be. Also in Business Class were two families with children under 5. It was a very long flight listening to a toddler not just crying but screaming for seven out of the eight hours. Now its not the childrens fault, I do however think that the cabin crew could have maybe internvene and helped a little more but also BA should have informed us as we paid alot of money and quite frankly could have saved that money and just had economy ticket as at least we would be a few grand better off. What with that and how the checking in ground staff were treating us as if we were an inconvenience we will rethink BA moving forward.  9 non-null      object \n",
            " 2   0.044583333333333336                                                                                                                                                                                                                                                                                                                                                                                                                                                                                                                                                                                                                                                                                                                                                                                                                                                                                                                                                                                                      9 non-null      float64\n",
            " 3   Positive                                                                                                                                                                                                                                                                                                                                                                                                                                                                                                                                                                                                                                                                                                                                                                                                                                                                                                                                                                                                                  9 non-null      object \n",
            "dtypes: float64(1), object(3)\n",
            "memory usage: 416.0+ bytes\n"
          ]
        }
      ]
    },
    {
      "cell_type": "markdown",
      "source": [],
      "metadata": {
        "id": "bL-F-9-EJRwk"
      }
    },
    {
      "cell_type": "markdown",
      "source": [],
      "metadata": {
        "id": "OGxDMnHDJSOe"
      }
    },
    {
      "cell_type": "code",
      "source": [
        "column_names =['ReviewedDate','ReviewText','SentimentScore','Reactiontype']\n",
        "dataset = pd.read_csv('/content/reviews_with_sentiment.csv',names=column_names,encoding = 'ISO-8859-1')"
      ],
      "metadata": {
        "id": "2whS6VY3WfYe"
      },
      "execution_count": 141,
      "outputs": []
    },
    {
      "cell_type": "code",
      "source": [
        "dataset.head(10)"
      ],
      "metadata": {
        "colab": {
          "base_uri": "https://localhost:8080/",
          "height": 536
        },
        "id": "BgOm0fCIJFM6",
        "outputId": "8822dee8-68ab-4d8b-c0e6-1dd965f72017"
      },
      "execution_count": 142,
      "outputs": [
        {
          "output_type": "execute_result",
          "data": {
            "text/plain": [
              "    ReviewedDate                                         ReviewText  \\\n",
              "0  3rd June 2024  â\n",
              " Trip Verified | My partner and I were on t...   \n",
              "1  1st June 2024  Not Verified |  We had a Premium Economy retur...   \n",
              "2  1st June 2024  â\n",
              " Trip Verified |  I should like to review m...   \n",
              "3  31st May 2024  â\n",
              " Trip Verified | We have flown with British...   \n",
              "4  31st May 2024  â\n",
              " Trip Verified | I sat in the plane at Vien...   \n",
              "5  30th May 2024  â\n",
              " Trip Verified | It is almost 11pm we were ...   \n",
              "6  29th May 2024  â\n",
              " Trip Verified |  I booked a long haul flig...   \n",
              "7  26th May 2024  â\n",
              " Trip Verified |  A premium price for a sub...   \n",
              "8  20th May 2024  â\n",
              " Trip Verified |  Really terrible user expe...   \n",
              "9  18th May 2024  â\n",
              " Trip Verified | Very impressed with BA. Ch...   \n",
              "\n",
              "   SentimentScore Reactiontype  \n",
              "0        0.044583     Positive  \n",
              "1       -0.018618     Negative  \n",
              "2        0.225600     Positive  \n",
              "3       -0.056360     Negative  \n",
              "4       -0.032143     Negative  \n",
              "5       -0.233333     Negative  \n",
              "6        0.102778     Positive  \n",
              "7       -0.122222     Negative  \n",
              "8       -0.050000     Negative  \n",
              "9        0.282548     Positive  "
            ],
            "text/html": [
              "\n",
              "  <div id=\"df-9f0b3dfb-52a8-427c-8759-ff12700c8771\" class=\"colab-df-container\">\n",
              "    <div>\n",
              "<style scoped>\n",
              "    .dataframe tbody tr th:only-of-type {\n",
              "        vertical-align: middle;\n",
              "    }\n",
              "\n",
              "    .dataframe tbody tr th {\n",
              "        vertical-align: top;\n",
              "    }\n",
              "\n",
              "    .dataframe thead th {\n",
              "        text-align: right;\n",
              "    }\n",
              "</style>\n",
              "<table border=\"1\" class=\"dataframe\">\n",
              "  <thead>\n",
              "    <tr style=\"text-align: right;\">\n",
              "      <th></th>\n",
              "      <th>ReviewedDate</th>\n",
              "      <th>ReviewText</th>\n",
              "      <th>SentimentScore</th>\n",
              "      <th>Reactiontype</th>\n",
              "    </tr>\n",
              "  </thead>\n",
              "  <tbody>\n",
              "    <tr>\n",
              "      <th>0</th>\n",
              "      <td>3rd June 2024</td>\n",
              "      <td>â Trip Verified | My partner and I were on t...</td>\n",
              "      <td>0.044583</td>\n",
              "      <td>Positive</td>\n",
              "    </tr>\n",
              "    <tr>\n",
              "      <th>1</th>\n",
              "      <td>1st June 2024</td>\n",
              "      <td>Not Verified |  We had a Premium Economy retur...</td>\n",
              "      <td>-0.018618</td>\n",
              "      <td>Negative</td>\n",
              "    </tr>\n",
              "    <tr>\n",
              "      <th>2</th>\n",
              "      <td>1st June 2024</td>\n",
              "      <td>â Trip Verified |  I should like to review m...</td>\n",
              "      <td>0.225600</td>\n",
              "      <td>Positive</td>\n",
              "    </tr>\n",
              "    <tr>\n",
              "      <th>3</th>\n",
              "      <td>31st May 2024</td>\n",
              "      <td>â Trip Verified | We have flown with British...</td>\n",
              "      <td>-0.056360</td>\n",
              "      <td>Negative</td>\n",
              "    </tr>\n",
              "    <tr>\n",
              "      <th>4</th>\n",
              "      <td>31st May 2024</td>\n",
              "      <td>â Trip Verified | I sat in the plane at Vien...</td>\n",
              "      <td>-0.032143</td>\n",
              "      <td>Negative</td>\n",
              "    </tr>\n",
              "    <tr>\n",
              "      <th>5</th>\n",
              "      <td>30th May 2024</td>\n",
              "      <td>â Trip Verified | It is almost 11pm we were ...</td>\n",
              "      <td>-0.233333</td>\n",
              "      <td>Negative</td>\n",
              "    </tr>\n",
              "    <tr>\n",
              "      <th>6</th>\n",
              "      <td>29th May 2024</td>\n",
              "      <td>â Trip Verified |  I booked a long haul flig...</td>\n",
              "      <td>0.102778</td>\n",
              "      <td>Positive</td>\n",
              "    </tr>\n",
              "    <tr>\n",
              "      <th>7</th>\n",
              "      <td>26th May 2024</td>\n",
              "      <td>â Trip Verified |  A premium price for a sub...</td>\n",
              "      <td>-0.122222</td>\n",
              "      <td>Negative</td>\n",
              "    </tr>\n",
              "    <tr>\n",
              "      <th>8</th>\n",
              "      <td>20th May 2024</td>\n",
              "      <td>â Trip Verified |  Really terrible user expe...</td>\n",
              "      <td>-0.050000</td>\n",
              "      <td>Negative</td>\n",
              "    </tr>\n",
              "    <tr>\n",
              "      <th>9</th>\n",
              "      <td>18th May 2024</td>\n",
              "      <td>â Trip Verified | Very impressed with BA. Ch...</td>\n",
              "      <td>0.282548</td>\n",
              "      <td>Positive</td>\n",
              "    </tr>\n",
              "  </tbody>\n",
              "</table>\n",
              "</div>\n",
              "    <div class=\"colab-df-buttons\">\n",
              "\n",
              "  <div class=\"colab-df-container\">\n",
              "    <button class=\"colab-df-convert\" onclick=\"convertToInteractive('df-9f0b3dfb-52a8-427c-8759-ff12700c8771')\"\n",
              "            title=\"Convert this dataframe to an interactive table.\"\n",
              "            style=\"display:none;\">\n",
              "\n",
              "  <svg xmlns=\"http://www.w3.org/2000/svg\" height=\"24px\" viewBox=\"0 -960 960 960\">\n",
              "    <path d=\"M120-120v-720h720v720H120Zm60-500h600v-160H180v160Zm220 220h160v-160H400v160Zm0 220h160v-160H400v160ZM180-400h160v-160H180v160Zm440 0h160v-160H620v160ZM180-180h160v-160H180v160Zm440 0h160v-160H620v160Z\"/>\n",
              "  </svg>\n",
              "    </button>\n",
              "\n",
              "  <style>\n",
              "    .colab-df-container {\n",
              "      display:flex;\n",
              "      gap: 12px;\n",
              "    }\n",
              "\n",
              "    .colab-df-convert {\n",
              "      background-color: #E8F0FE;\n",
              "      border: none;\n",
              "      border-radius: 50%;\n",
              "      cursor: pointer;\n",
              "      display: none;\n",
              "      fill: #1967D2;\n",
              "      height: 32px;\n",
              "      padding: 0 0 0 0;\n",
              "      width: 32px;\n",
              "    }\n",
              "\n",
              "    .colab-df-convert:hover {\n",
              "      background-color: #E2EBFA;\n",
              "      box-shadow: 0px 1px 2px rgba(60, 64, 67, 0.3), 0px 1px 3px 1px rgba(60, 64, 67, 0.15);\n",
              "      fill: #174EA6;\n",
              "    }\n",
              "\n",
              "    .colab-df-buttons div {\n",
              "      margin-bottom: 4px;\n",
              "    }\n",
              "\n",
              "    [theme=dark] .colab-df-convert {\n",
              "      background-color: #3B4455;\n",
              "      fill: #D2E3FC;\n",
              "    }\n",
              "\n",
              "    [theme=dark] .colab-df-convert:hover {\n",
              "      background-color: #434B5C;\n",
              "      box-shadow: 0px 1px 3px 1px rgba(0, 0, 0, 0.15);\n",
              "      filter: drop-shadow(0px 1px 2px rgba(0, 0, 0, 0.3));\n",
              "      fill: #FFFFFF;\n",
              "    }\n",
              "  </style>\n",
              "\n",
              "    <script>\n",
              "      const buttonEl =\n",
              "        document.querySelector('#df-9f0b3dfb-52a8-427c-8759-ff12700c8771 button.colab-df-convert');\n",
              "      buttonEl.style.display =\n",
              "        google.colab.kernel.accessAllowed ? 'block' : 'none';\n",
              "\n",
              "      async function convertToInteractive(key) {\n",
              "        const element = document.querySelector('#df-9f0b3dfb-52a8-427c-8759-ff12700c8771');\n",
              "        const dataTable =\n",
              "          await google.colab.kernel.invokeFunction('convertToInteractive',\n",
              "                                                    [key], {});\n",
              "        if (!dataTable) return;\n",
              "\n",
              "        const docLinkHtml = 'Like what you see? Visit the ' +\n",
              "          '<a target=\"_blank\" href=https://colab.research.google.com/notebooks/data_table.ipynb>data table notebook</a>'\n",
              "          + ' to learn more about interactive tables.';\n",
              "        element.innerHTML = '';\n",
              "        dataTable['output_type'] = 'display_data';\n",
              "        await google.colab.output.renderOutput(dataTable, element);\n",
              "        const docLink = document.createElement('div');\n",
              "        docLink.innerHTML = docLinkHtml;\n",
              "        element.appendChild(docLink);\n",
              "      }\n",
              "    </script>\n",
              "  </div>\n",
              "\n",
              "\n",
              "<div id=\"df-2d36835e-dc1a-470e-a860-adddc4ef96c0\">\n",
              "  <button class=\"colab-df-quickchart\" onclick=\"quickchart('df-2d36835e-dc1a-470e-a860-adddc4ef96c0')\"\n",
              "            title=\"Suggest charts\"\n",
              "            style=\"display:none;\">\n",
              "\n",
              "<svg xmlns=\"http://www.w3.org/2000/svg\" height=\"24px\"viewBox=\"0 0 24 24\"\n",
              "     width=\"24px\">\n",
              "    <g>\n",
              "        <path d=\"M19 3H5c-1.1 0-2 .9-2 2v14c0 1.1.9 2 2 2h14c1.1 0 2-.9 2-2V5c0-1.1-.9-2-2-2zM9 17H7v-7h2v7zm4 0h-2V7h2v10zm4 0h-2v-4h2v4z\"/>\n",
              "    </g>\n",
              "</svg>\n",
              "  </button>\n",
              "\n",
              "<style>\n",
              "  .colab-df-quickchart {\n",
              "      --bg-color: #E8F0FE;\n",
              "      --fill-color: #1967D2;\n",
              "      --hover-bg-color: #E2EBFA;\n",
              "      --hover-fill-color: #174EA6;\n",
              "      --disabled-fill-color: #AAA;\n",
              "      --disabled-bg-color: #DDD;\n",
              "  }\n",
              "\n",
              "  [theme=dark] .colab-df-quickchart {\n",
              "      --bg-color: #3B4455;\n",
              "      --fill-color: #D2E3FC;\n",
              "      --hover-bg-color: #434B5C;\n",
              "      --hover-fill-color: #FFFFFF;\n",
              "      --disabled-bg-color: #3B4455;\n",
              "      --disabled-fill-color: #666;\n",
              "  }\n",
              "\n",
              "  .colab-df-quickchart {\n",
              "    background-color: var(--bg-color);\n",
              "    border: none;\n",
              "    border-radius: 50%;\n",
              "    cursor: pointer;\n",
              "    display: none;\n",
              "    fill: var(--fill-color);\n",
              "    height: 32px;\n",
              "    padding: 0;\n",
              "    width: 32px;\n",
              "  }\n",
              "\n",
              "  .colab-df-quickchart:hover {\n",
              "    background-color: var(--hover-bg-color);\n",
              "    box-shadow: 0 1px 2px rgba(60, 64, 67, 0.3), 0 1px 3px 1px rgba(60, 64, 67, 0.15);\n",
              "    fill: var(--button-hover-fill-color);\n",
              "  }\n",
              "\n",
              "  .colab-df-quickchart-complete:disabled,\n",
              "  .colab-df-quickchart-complete:disabled:hover {\n",
              "    background-color: var(--disabled-bg-color);\n",
              "    fill: var(--disabled-fill-color);\n",
              "    box-shadow: none;\n",
              "  }\n",
              "\n",
              "  .colab-df-spinner {\n",
              "    border: 2px solid var(--fill-color);\n",
              "    border-color: transparent;\n",
              "    border-bottom-color: var(--fill-color);\n",
              "    animation:\n",
              "      spin 1s steps(1) infinite;\n",
              "  }\n",
              "\n",
              "  @keyframes spin {\n",
              "    0% {\n",
              "      border-color: transparent;\n",
              "      border-bottom-color: var(--fill-color);\n",
              "      border-left-color: var(--fill-color);\n",
              "    }\n",
              "    20% {\n",
              "      border-color: transparent;\n",
              "      border-left-color: var(--fill-color);\n",
              "      border-top-color: var(--fill-color);\n",
              "    }\n",
              "    30% {\n",
              "      border-color: transparent;\n",
              "      border-left-color: var(--fill-color);\n",
              "      border-top-color: var(--fill-color);\n",
              "      border-right-color: var(--fill-color);\n",
              "    }\n",
              "    40% {\n",
              "      border-color: transparent;\n",
              "      border-right-color: var(--fill-color);\n",
              "      border-top-color: var(--fill-color);\n",
              "    }\n",
              "    60% {\n",
              "      border-color: transparent;\n",
              "      border-right-color: var(--fill-color);\n",
              "    }\n",
              "    80% {\n",
              "      border-color: transparent;\n",
              "      border-right-color: var(--fill-color);\n",
              "      border-bottom-color: var(--fill-color);\n",
              "    }\n",
              "    90% {\n",
              "      border-color: transparent;\n",
              "      border-bottom-color: var(--fill-color);\n",
              "    }\n",
              "  }\n",
              "</style>\n",
              "\n",
              "  <script>\n",
              "    async function quickchart(key) {\n",
              "      const quickchartButtonEl =\n",
              "        document.querySelector('#' + key + ' button');\n",
              "      quickchartButtonEl.disabled = true;  // To prevent multiple clicks.\n",
              "      quickchartButtonEl.classList.add('colab-df-spinner');\n",
              "      try {\n",
              "        const charts = await google.colab.kernel.invokeFunction(\n",
              "            'suggestCharts', [key], {});\n",
              "      } catch (error) {\n",
              "        console.error('Error during call to suggestCharts:', error);\n",
              "      }\n",
              "      quickchartButtonEl.classList.remove('colab-df-spinner');\n",
              "      quickchartButtonEl.classList.add('colab-df-quickchart-complete');\n",
              "    }\n",
              "    (() => {\n",
              "      let quickchartButtonEl =\n",
              "        document.querySelector('#df-2d36835e-dc1a-470e-a860-adddc4ef96c0 button');\n",
              "      quickchartButtonEl.style.display =\n",
              "        google.colab.kernel.accessAllowed ? 'block' : 'none';\n",
              "    })();\n",
              "  </script>\n",
              "</div>\n",
              "\n",
              "    </div>\n",
              "  </div>\n"
            ],
            "application/vnd.google.colaboratory.intrinsic+json": {
              "type": "dataframe",
              "variable_name": "dataset",
              "summary": "{\n  \"name\": \"dataset\",\n  \"rows\": 10,\n  \"fields\": [\n    {\n      \"column\": \"ReviewedDate\",\n      \"properties\": {\n        \"dtype\": \"string\",\n        \"num_unique_values\": 8,\n        \"samples\": [\n          \"1st June 2024\",\n          \"26th May 2024\",\n          \"3rd June 2024\"\n        ],\n        \"semantic_type\": \"\",\n        \"description\": \"\"\n      }\n    },\n    {\n      \"column\": \"ReviewText\",\n      \"properties\": {\n        \"dtype\": \"string\",\n        \"num_unique_values\": 10,\n        \"samples\": [\n          \"\\u00e2\\u009c\\u0085 Trip Verified |  Really terrible user experience. British Airways website is full of glitches. I can't even choose my own seat due to cookie problems. Never had this problem with any other airlines.\",\n          \"Not Verified |  We had a Premium Economy return flight Los Angeles to London. The outbound flight was cancelled with under 12 hours notice, and we had to instead take an economy flight via Dublin to London. That's annoying but it happens. What is really difficult to understand is BA's response since I raised this as a claim once our return flight had completed (as I was instructed to do). It is now nearly 5 months and there has been no response other than one in early March with the title \\\"we've not forgotten your case\\\" and \\\"We're really sorry you're still waiting for a response from us. We know it's been a long time since you contacted us and this isn't the service you should expect. Rest assured we've not forgotten your case. Our Customer Relations team are working extremely hard to respond to you as soon as possible. Thank you for your continued patience. You can check the status of your case here. Please accept our most sincere apologies. We look forward to speaking with you soon.\\\" I called about a month ago to enquire and was told i'd be hearing within the week. This is just extremely poor customer service, in addition to the inconvenience and stress of the late-cancelled flight, delays and change in class of flight. British Airways really seems to be on the decline, i have so many friends who are long-time customers like us who are having flights cancelled or delayed with little commitment to make it right. I have been a member of their Flying Club for 20 years, is this how you treat loyal customers BA?\",\n          \"\\u00e2\\u009c\\u0085 Trip Verified | It is almost 11pm we were supposed to take off at 19.20 we are still sitting on the plane at the airport. The worst part is not the technical issue that has kept us grounded but the fact we have only been offered half a glass of water the entire time we have been on board. Being hungry and dehydrated has not helped the situation.\"\n        ],\n        \"semantic_type\": \"\",\n        \"description\": \"\"\n      }\n    },\n    {\n      \"column\": \"SentimentScore\",\n      \"properties\": {\n        \"dtype\": \"number\",\n        \"std\": 0.15552017200572085,\n        \"min\": -0.2333333333333333,\n        \"max\": 0.282548309178744,\n        \"num_unique_values\": 10,\n        \"samples\": [\n          -0.05,\n          -0.0186177248677248,\n          -0.2333333333333333\n        ],\n        \"semantic_type\": \"\",\n        \"description\": \"\"\n      }\n    },\n    {\n      \"column\": \"Reactiontype\",\n      \"properties\": {\n        \"dtype\": \"category\",\n        \"num_unique_values\": 2,\n        \"samples\": [\n          \"Negative\",\n          \"Positive\"\n        ],\n        \"semantic_type\": \"\",\n        \"description\": \"\"\n      }\n    }\n  ]\n}"
            }
          },
          "metadata": {},
          "execution_count": 142
        }
      ]
    },
    {
      "cell_type": "code",
      "source": [
        "dataset.isnull().sum()"
      ],
      "metadata": {
        "colab": {
          "base_uri": "https://localhost:8080/"
        },
        "id": "tC39qA7qJZDH",
        "outputId": "cf545349-bfb4-4b0f-b911-b601ba2c16df"
      },
      "execution_count": 143,
      "outputs": [
        {
          "output_type": "execute_result",
          "data": {
            "text/plain": [
              "ReviewedDate      0\n",
              "ReviewText        0\n",
              "SentimentScore    0\n",
              "Reactiontype      0\n",
              "dtype: int64"
            ]
          },
          "metadata": {},
          "execution_count": 143
        }
      ]
    },
    {
      "cell_type": "code",
      "source": [
        "dataset['Reactiontype'].value_counts()"
      ],
      "metadata": {
        "colab": {
          "base_uri": "https://localhost:8080/"
        },
        "id": "cokrnvF8KHop",
        "outputId": "11ac8ca5-c337-48fd-df74-c4973797d61f"
      },
      "execution_count": 144,
      "outputs": [
        {
          "output_type": "execute_result",
          "data": {
            "text/plain": [
              "Reactiontype\n",
              "Negative    6\n",
              "Positive    4\n",
              "Name: count, dtype: int64"
            ]
          },
          "metadata": {},
          "execution_count": 144
        }
      ]
    },
    {
      "cell_type": "code",
      "source": [
        "from sklearn.preprocessing import LabelEncoder"
      ],
      "metadata": {
        "id": "AS82h5s1LXtB"
      },
      "execution_count": 145,
      "outputs": []
    },
    {
      "cell_type": "code",
      "source": [
        "model1 = LabelEncoder()"
      ],
      "metadata": {
        "id": "3MJH01VZL0cf"
      },
      "execution_count": 146,
      "outputs": []
    },
    {
      "cell_type": "code",
      "source": [
        "dataset['Reactiontype'] =model1.fit_transform(dataset['Reactiontype'])"
      ],
      "metadata": {
        "id": "-Yz4YofeL3Ao"
      },
      "execution_count": 147,
      "outputs": []
    },
    {
      "cell_type": "markdown",
      "source": [
        "0 --Negative\n",
        "1-- positive"
      ],
      "metadata": {
        "id": "TEAWTJe4REIw"
      }
    },
    {
      "cell_type": "code",
      "source": [
        "dataset['Reactiontype'].value_counts()"
      ],
      "metadata": {
        "colab": {
          "base_uri": "https://localhost:8080/"
        },
        "id": "Jn_CC6_AMR-e",
        "outputId": "f474589d-4fb0-42b5-b36e-3fb676b73fdf"
      },
      "execution_count": 148,
      "outputs": [
        {
          "output_type": "execute_result",
          "data": {
            "text/plain": [
              "Reactiontype\n",
              "0    6\n",
              "1    4\n",
              "Name: count, dtype: int64"
            ]
          },
          "metadata": {},
          "execution_count": 148
        }
      ]
    },
    {
      "cell_type": "code",
      "source": [
        "plt.figure(figsize=(15,5))\n",
        "plt.xticks(rotation=90)\n",
        "sns.countplot(data = dataset ,x=\"Reactiontype\",palette=\"Set2\")\n",
        "plt.show()"
      ],
      "metadata": {
        "colab": {
          "base_uri": "https://localhost:8080/",
          "height": 352
        },
        "id": "EDFnbdjlPK-Y",
        "outputId": "553fd52c-c984-4051-eab2-9f6cf49bdc67"
      },
      "execution_count": 149,
      "outputs": [
        {
          "output_type": "stream",
          "name": "stderr",
          "text": [
            "<ipython-input-149-97b96ffb68b1>:3: FutureWarning: \n",
            "\n",
            "Passing `palette` without assigning `hue` is deprecated and will be removed in v0.14.0. Assign the `x` variable to `hue` and set `legend=False` for the same effect.\n",
            "\n",
            "  sns.countplot(data = dataset ,x=\"Reactiontype\",palette=\"Set2\")\n"
          ]
        },
        {
          "output_type": "display_data",
          "data": {
            "text/plain": [
              "<Figure size 1500x500 with 1 Axes>"
            ],
            "image/png": "[encoded data removed]"
          },
          "metadata": {}
        }
      ]
    },
    {
      "cell_type": "code",
      "source": [
        "counts = dataset['Reactiontype'].value_counts()\n",
        "labels = dataset['Reactiontype'].unique()"
      ],
      "metadata": {
        "id": "dY3SyfacQZWW"
      },
      "execution_count": 150,
      "outputs": []
    },
    {
      "cell_type": "code",
      "source": [
        "dataset['Reactiontype'].unique()\n"
      ],
      "metadata": {
        "colab": {
          "base_uri": "https://localhost:8080/"
        },
        "id": "W3f_kdDsQu51",
        "outputId": "1a09e0b9-005c-4eec-8936-7af90f19b6ac"
      },
      "execution_count": 151,
      "outputs": [
        {
          "output_type": "execute_result",
          "data": {
            "text/plain": [
              "array([1, 0])"
            ]
          },
          "metadata": {},
          "execution_count": 151
        }
      ]
    },
    {
      "cell_type": "code",
      "source": [
        "plt.figure(figsize=(5,4))\n",
        "plt.pie(counts,labels=labels,autopct='%1.1f%%',shadow= True,colors=plt.cm.plasma(np.linspace(0,1,3)))\n",
        "plt.show()"
      ],
      "metadata": {
        "colab": {
          "base_uri": "https://localhost:8080/",
          "height": 345
        },
        "id": "6D1BdLnIQnsS",
        "outputId": "5e63c2d5-f0e0-4ea7-9f23-a7de49070724"
      },
      "execution_count": 152,
      "outputs": [
        {
          "output_type": "display_data",
          "data": {
            "text/plain": [
              "<Figure size 500x400 with 1 Axes>"
            ],
            "image/png": "[encoded data removed]"
          },
          "metadata": {}
        }
      ]
    },
    {
      "cell_type": "code",
      "source": [
        "dataset.head(10)"
      ],
      "metadata": {
        "colab": {
          "base_uri": "https://localhost:8080/",
          "height": 536
        },
        "id": "UnS8VBbiMTiS",
        "outputId": "7875fd92-fe94-4c34-cb45-c4d8512f5f29"
      },
      "execution_count": 153,
      "outputs": [
        {
          "output_type": "execute_result",
          "data": {
            "text/plain": [
              "    ReviewedDate                                         ReviewText  \\\n",
              "0  3rd June 2024  â\n",
              " Trip Verified | My partner and I were on t...   \n",
              "1  1st June 2024  Not Verified |  We had a Premium Economy retur...   \n",
              "2  1st June 2024  â\n",
              " Trip Verified |  I should like to review m...   \n",
              "3  31st May 2024  â\n",
              " Trip Verified | We have flown with British...   \n",
              "4  31st May 2024  â\n",
              " Trip Verified | I sat in the plane at Vien...   \n",
              "5  30th May 2024  â\n",
              " Trip Verified | It is almost 11pm we were ...   \n",
              "6  29th May 2024  â\n",
              " Trip Verified |  I booked a long haul flig...   \n",
              "7  26th May 2024  â\n",
              " Trip Verified |  A premium price for a sub...   \n",
              "8  20th May 2024  â\n",
              " Trip Verified |  Really terrible user expe...   \n",
              "9  18th May 2024  â\n",
              " Trip Verified | Very impressed with BA. Ch...   \n",
              "\n",
              "   SentimentScore  Reactiontype  \n",
              "0        0.044583             1  \n",
              "1       -0.018618             0  \n",
              "2        0.225600             1  \n",
              "3       -0.056360             0  \n",
              "4       -0.032143             0  \n",
              "5       -0.233333             0  \n",
              "6        0.102778             1  \n",
              "7       -0.122222             0  \n",
              "8       -0.050000             0  \n",
              "9        0.282548             1  "
            ],
            "text/html": [
              "\n",
              "  <div id=\"df-1965bcf4-77aa-4d6e-92db-0345beab0d9e\" class=\"colab-df-container\">\n",
              "    <div>\n",
              "<style scoped>\n",
              "    .dataframe tbody tr th:only-of-type {\n",
              "        vertical-align: middle;\n",
              "    }\n",
              "\n",
              "    .dataframe tbody tr th {\n",
              "        vertical-align: top;\n",
              "    }\n",
              "\n",
              "    .dataframe thead th {\n",
              "        text-align: right;\n",
              "    }\n",
              "</style>\n",
              "<table border=\"1\" class=\"dataframe\">\n",
              "  <thead>\n",
              "    <tr style=\"text-align: right;\">\n",
              "      <th></th>\n",
              "      <th>ReviewedDate</th>\n",
              "      <th>ReviewText</th>\n",
              "      <th>SentimentScore</th>\n",
              "      <th>Reactiontype</th>\n",
              "    </tr>\n",
              "  </thead>\n",
              "  <tbody>\n",
              "    <tr>\n",
              "      <th>0</th>\n",
              "      <td>3rd June 2024</td>\n",
              "      <td>â Trip Verified | My partner and I were on t...</td>\n",
              "      <td>0.044583</td>\n",
              "      <td>1</td>\n",
              "    </tr>\n",
              "    <tr>\n",
              "      <th>1</th>\n",
              "      <td>1st June 2024</td>\n",
              "      <td>Not Verified |  We had a Premium Economy retur...</td>\n",
              "      <td>-0.018618</td>\n",
              "      <td>0</td>\n",
              "    </tr>\n",
              "    <tr>\n",
              "      <th>2</th>\n",
              "      <td>1st June 2024</td>\n",
              "      <td>â Trip Verified |  I should like to review m...</td>\n",
              "      <td>0.225600</td>\n",
              "      <td>1</td>\n",
              "    </tr>\n",
              "    <tr>\n",
              "      <th>3</th>\n",
              "      <td>31st May 2024</td>\n",
              "      <td>â Trip Verified | We have flown with British...</td>\n",
              "      <td>-0.056360</td>\n",
              "      <td>0</td>\n",
              "    </tr>\n",
              "    <tr>\n",
              "      <th>4</th>\n",
              "      <td>31st May 2024</td>\n",
              "      <td>â Trip Verified | I sat in the plane at Vien...</td>\n",
              "      <td>-0.032143</td>\n",
              "      <td>0</td>\n",
              "    </tr>\n",
              "    <tr>\n",
              "      <th>5</th>\n",
              "      <td>30th May 2024</td>\n",
              "      <td>â Trip Verified | It is almost 11pm we were ...</td>\n",
              "      <td>-0.233333</td>\n",
              "      <td>0</td>\n",
              "    </tr>\n",
              "    <tr>\n",
              "      <th>6</th>\n",
              "      <td>29th May 2024</td>\n",
              "      <td>â Trip Verified |  I booked a long haul flig...</td>\n",
              "      <td>0.102778</td>\n",
              "      <td>1</td>\n",
              "    </tr>\n",
              "    <tr>\n",
              "      <th>7</th>\n",
              "      <td>26th May 2024</td>\n",
              "      <td>â Trip Verified |  A premium price for a sub...</td>\n",
              "      <td>-0.122222</td>\n",
              "      <td>0</td>\n",
              "    </tr>\n",
              "    <tr>\n",
              "      <th>8</th>\n",
              "      <td>20th May 2024</td>\n",
              "      <td>â Trip Verified |  Really terrible user expe...</td>\n",
              "      <td>-0.050000</td>\n",
              "      <td>0</td>\n",
              "    </tr>\n",
              "    <tr>\n",
              "      <th>9</th>\n",
              "      <td>18th May 2024</td>\n",
              "      <td>â Trip Verified | Very impressed with BA. Ch...</td>\n",
              "      <td>0.282548</td>\n",
              "      <td>1</td>\n",
              "    </tr>\n",
              "  </tbody>\n",
              "</table>\n",
              "</div>\n",
              "    <div class=\"colab-df-buttons\">\n",
              "\n",
              "  <div class=\"colab-df-container\">\n",
              "    <button class=\"colab-df-convert\" onclick=\"convertToInteractive('df-1965bcf4-77aa-4d6e-92db-0345beab0d9e')\"\n",
              "            title=\"Convert this dataframe to an interactive table.\"\n",
              "            style=\"display:none;\">\n",
              "\n",
              "  <svg xmlns=\"http://www.w3.org/2000/svg\" height=\"24px\" viewBox=\"0 -960 960 960\">\n",
              "    <path d=\"M120-120v-720h720v720H120Zm60-500h600v-160H180v160Zm220 220h160v-160H400v160Zm0 220h160v-160H400v160ZM180-400h160v-160H180v160Zm440 0h160v-160H620v160ZM180-180h160v-160H180v160Zm440 0h160v-160H620v160Z\"/>\n",
              "  </svg>\n",
              "    </button>\n",
              "\n",
              "  <style>\n",
              "    .colab-df-container {\n",
              "      display:flex;\n",
              "      gap: 12px;\n",
              "    }\n",
              "\n",
              "    .colab-df-convert {\n",
              "      background-color: #E8F0FE;\n",
              "      border: none;\n",
              "      border-radius: 50%;\n",
              "      cursor: pointer;\n",
              "      display: none;\n",
              "      fill: #1967D2;\n",
              "      height: 32px;\n",
              "      padding: 0 0 0 0;\n",
              "      width: 32px;\n",
              "    }\n",
              "\n",
              "    .colab-df-convert:hover {\n",
              "      background-color: #E2EBFA;\n",
              "      box-shadow: 0px 1px 2px rgba(60, 64, 67, 0.3), 0px 1px 3px 1px rgba(60, 64, 67, 0.15);\n",
              "      fill: #174EA6;\n",
              "    }\n",
              "\n",
              "    .colab-df-buttons div {\n",
              "      margin-bottom: 4px;\n",
              "    }\n",
              "\n",
              "    [theme=dark] .colab-df-convert {\n",
              "      background-color: #3B4455;\n",
              "      fill: #D2E3FC;\n",
              "    }\n",
              "\n",
              "    [theme=dark] .colab-df-convert:hover {\n",
              "      background-color: #434B5C;\n",
              "      box-shadow: 0px 1px 3px 1px rgba(0, 0, 0, 0.15);\n",
              "      filter: drop-shadow(0px 1px 2px rgba(0, 0, 0, 0.3));\n",
              "      fill: #FFFFFF;\n",
              "    }\n",
              "  </style>\n",
              "\n",
              "    <script>\n",
              "      const buttonEl =\n",
              "        document.querySelector('#df-1965bcf4-77aa-4d6e-92db-0345beab0d9e button.colab-df-convert');\n",
              "      buttonEl.style.display =\n",
              "        google.colab.kernel.accessAllowed ? 'block' : 'none';\n",
              "\n",
              "      async function convertToInteractive(key) {\n",
              "        const element = document.querySelector('#df-1965bcf4-77aa-4d6e-92db-0345beab0d9e');\n",
              "        const dataTable =\n",
              "          await google.colab.kernel.invokeFunction('convertToInteractive',\n",
              "                                                    [key], {});\n",
              "        if (!dataTable) return;\n",
              "\n",
              "        const docLinkHtml = 'Like what you see? Visit the ' +\n",
              "          '<a target=\"_blank\" href=https://colab.research.google.com/notebooks/data_table.ipynb>data table notebook</a>'\n",
              "          + ' to learn more about interactive tables.';\n",
              "        element.innerHTML = '';\n",
              "        dataTable['output_type'] = 'display_data';\n",
              "        await google.colab.output.renderOutput(dataTable, element);\n",
              "        const docLink = document.createElement('div');\n",
              "        docLink.innerHTML = docLinkHtml;\n",
              "        element.appendChild(docLink);\n",
              "      }\n",
              "    </script>\n",
              "  </div>\n",
              "\n",
              "\n",
              "<div id=\"df-789ff217-9ece-4323-869f-0d632009a6e4\">\n",
              "  <button class=\"colab-df-quickchart\" onclick=\"quickchart('df-789ff217-9ece-4323-869f-0d632009a6e4')\"\n",
              "            title=\"Suggest charts\"\n",
              "            style=\"display:none;\">\n",
              "\n",
              "<svg xmlns=\"http://www.w3.org/2000/svg\" height=\"24px\"viewBox=\"0 0 24 24\"\n",
              "     width=\"24px\">\n",
              "    <g>\n",
              "        <path d=\"M19 3H5c-1.1 0-2 .9-2 2v14c0 1.1.9 2 2 2h14c1.1 0 2-.9 2-2V5c0-1.1-.9-2-2-2zM9 17H7v-7h2v7zm4 0h-2V7h2v10zm4 0h-2v-4h2v4z\"/>\n",
              "    </g>\n",
              "</svg>\n",
              "  </button>\n",
              "\n",
              "<style>\n",
              "  .colab-df-quickchart {\n",
              "      --bg-color: #E8F0FE;\n",
              "      --fill-color: #1967D2;\n",
              "      --hover-bg-color: #E2EBFA;\n",
              "      --hover-fill-color: #174EA6;\n",
              "      --disabled-fill-color: #AAA;\n",
              "      --disabled-bg-color: #DDD;\n",
              "  }\n",
              "\n",
              "  [theme=dark] .colab-df-quickchart {\n",
              "      --bg-color: #3B4455;\n",
              "      --fill-color: #D2E3FC;\n",
              "      --hover-bg-color: #434B5C;\n",
              "      --hover-fill-color: #FFFFFF;\n",
              "      --disabled-bg-color: #3B4455;\n",
              "      --disabled-fill-color: #666;\n",
              "  }\n",
              "\n",
              "  .colab-df-quickchart {\n",
              "    background-color: var(--bg-color);\n",
              "    border: none;\n",
              "    border-radius: 50%;\n",
              "    cursor: pointer;\n",
              "    display: none;\n",
              "    fill: var(--fill-color);\n",
              "    height: 32px;\n",
              "    padding: 0;\n",
              "    width: 32px;\n",
              "  }\n",
              "\n",
              "  .colab-df-quickchart:hover {\n",
              "    background-color: var(--hover-bg-color);\n",
              "    box-shadow: 0 1px 2px rgba(60, 64, 67, 0.3), 0 1px 3px 1px rgba(60, 64, 67, 0.15);\n",
              "    fill: var(--button-hover-fill-color);\n",
              "  }\n",
              "\n",
              "  .colab-df-quickchart-complete:disabled,\n",
              "  .colab-df-quickchart-complete:disabled:hover {\n",
              "    background-color: var(--disabled-bg-color);\n",
              "    fill: var(--disabled-fill-color);\n",
              "    box-shadow: none;\n",
              "  }\n",
              "\n",
              "  .colab-df-spinner {\n",
              "    border: 2px solid var(--fill-color);\n",
              "    border-color: transparent;\n",
              "    border-bottom-color: var(--fill-color);\n",
              "    animation:\n",
              "      spin 1s steps(1) infinite;\n",
              "  }\n",
              "\n",
              "  @keyframes spin {\n",
              "    0% {\n",
              "      border-color: transparent;\n",
              "      border-bottom-color: var(--fill-color);\n",
              "      border-left-color: var(--fill-color);\n",
              "    }\n",
              "    20% {\n",
              "      border-color: transparent;\n",
              "      border-left-color: var(--fill-color);\n",
              "      border-top-color: var(--fill-color);\n",
              "    }\n",
              "    30% {\n",
              "      border-color: transparent;\n",
              "      border-left-color: var(--fill-color);\n",
              "      border-top-color: var(--fill-color);\n",
              "      border-right-color: var(--fill-color);\n",
              "    }\n",
              "    40% {\n",
              "      border-color: transparent;\n",
              "      border-right-color: var(--fill-color);\n",
              "      border-top-color: var(--fill-color);\n",
              "    }\n",
              "    60% {\n",
              "      border-color: transparent;\n",
              "      border-right-color: var(--fill-color);\n",
              "    }\n",
              "    80% {\n",
              "      border-color: transparent;\n",
              "      border-right-color: var(--fill-color);\n",
              "      border-bottom-color: var(--fill-color);\n",
              "    }\n",
              "    90% {\n",
              "      border-color: transparent;\n",
              "      border-bottom-color: var(--fill-color);\n",
              "    }\n",
              "  }\n",
              "</style>\n",
              "\n",
              "  <script>\n",
              "    async function quickchart(key) {\n",
              "      const quickchartButtonEl =\n",
              "        document.querySelector('#' + key + ' button');\n",
              "      quickchartButtonEl.disabled = true;  // To prevent multiple clicks.\n",
              "      quickchartButtonEl.classList.add('colab-df-spinner');\n",
              "      try {\n",
              "        const charts = await google.colab.kernel.invokeFunction(\n",
              "            'suggestCharts', [key], {});\n",
              "      } catch (error) {\n",
              "        console.error('Error during call to suggestCharts:', error);\n",
              "      }\n",
              "      quickchartButtonEl.classList.remove('colab-df-spinner');\n",
              "      quickchartButtonEl.classList.add('colab-df-quickchart-complete');\n",
              "    }\n",
              "    (() => {\n",
              "      let quickchartButtonEl =\n",
              "        document.querySelector('#df-789ff217-9ece-4323-869f-0d632009a6e4 button');\n",
              "      quickchartButtonEl.style.display =\n",
              "        google.colab.kernel.accessAllowed ? 'block' : 'none';\n",
              "    })();\n",
              "  </script>\n",
              "</div>\n",
              "\n",
              "    </div>\n",
              "  </div>\n"
            ],
            "application/vnd.google.colaboratory.intrinsic+json": {
              "type": "dataframe",
              "variable_name": "dataset",
              "summary": "{\n  \"name\": \"dataset\",\n  \"rows\": 10,\n  \"fields\": [\n    {\n      \"column\": \"ReviewedDate\",\n      \"properties\": {\n        \"dtype\": \"string\",\n        \"num_unique_values\": 8,\n        \"samples\": [\n          \"1st June 2024\",\n          \"26th May 2024\",\n          \"3rd June 2024\"\n        ],\n        \"semantic_type\": \"\",\n        \"description\": \"\"\n      }\n    },\n    {\n      \"column\": \"ReviewText\",\n      \"properties\": {\n        \"dtype\": \"string\",\n        \"num_unique_values\": 10,\n        \"samples\": [\n          \"\\u00e2\\u009c\\u0085 Trip Verified |  Really terrible user experience. British Airways website is full of glitches. I can't even choose my own seat due to cookie problems. Never had this problem with any other airlines.\",\n          \"Not Verified |  We had a Premium Economy return flight Los Angeles to London. The outbound flight was cancelled with under 12 hours notice, and we had to instead take an economy flight via Dublin to London. That's annoying but it happens. What is really difficult to understand is BA's response since I raised this as a claim once our return flight had completed (as I was instructed to do). It is now nearly 5 months and there has been no response other than one in early March with the title \\\"we've not forgotten your case\\\" and \\\"We're really sorry you're still waiting for a response from us. We know it's been a long time since you contacted us and this isn't the service you should expect. Rest assured we've not forgotten your case. Our Customer Relations team are working extremely hard to respond to you as soon as possible. Thank you for your continued patience. You can check the status of your case here. Please accept our most sincere apologies. We look forward to speaking with you soon.\\\" I called about a month ago to enquire and was told i'd be hearing within the week. This is just extremely poor customer service, in addition to the inconvenience and stress of the late-cancelled flight, delays and change in class of flight. British Airways really seems to be on the decline, i have so many friends who are long-time customers like us who are having flights cancelled or delayed with little commitment to make it right. I have been a member of their Flying Club for 20 years, is this how you treat loyal customers BA?\",\n          \"\\u00e2\\u009c\\u0085 Trip Verified | It is almost 11pm we were supposed to take off at 19.20 we are still sitting on the plane at the airport. The worst part is not the technical issue that has kept us grounded but the fact we have only been offered half a glass of water the entire time we have been on board. Being hungry and dehydrated has not helped the situation.\"\n        ],\n        \"semantic_type\": \"\",\n        \"description\": \"\"\n      }\n    },\n    {\n      \"column\": \"SentimentScore\",\n      \"properties\": {\n        \"dtype\": \"number\",\n        \"std\": 0.15552017200572085,\n        \"min\": -0.2333333333333333,\n        \"max\": 0.282548309178744,\n        \"num_unique_values\": 10,\n        \"samples\": [\n          -0.05,\n          -0.0186177248677248,\n          -0.2333333333333333\n        ],\n        \"semantic_type\": \"\",\n        \"description\": \"\"\n      }\n    },\n    {\n      \"column\": \"Reactiontype\",\n      \"properties\": {\n        \"dtype\": \"number\",\n        \"std\": 0,\n        \"min\": 0,\n        \"max\": 1,\n        \"num_unique_values\": 2,\n        \"samples\": [\n          0,\n          1\n        ],\n        \"semantic_type\": \"\",\n        \"description\": \"\"\n      }\n    }\n  ]\n}"
            }
          },
          "metadata": {},
          "execution_count": 153
        }
      ]
    },
    {
      "cell_type": "code",
      "source": [
        "def cleanReview(txt):\n",
        "  cleantxt=re.sub('http\\S+\\s','',txt)\n",
        "  #cleantxt=re.sub('RT|CC','',cleantxt)\n",
        "  #cleantxt=re.sub('#\\S+\\s+','',cleantxt)\n",
        "  cleantxt=re.sub('@\\S+','',cleantxt)\n",
        "  cleantxt=re.sub('\\r\\n','',cleantxt)\n",
        "  cleantxt=re.sub('[%s]' %re.escape(\"\"\"!\"*#$%&'()\"+.-:;<=>?@[\\]^_'{|}~\"\"\"),'',cleantxt)\n",
        "  cleantxt=re.sub(r'[^\\x00-\\x7f]','',cleantxt)\n",
        "  #cleantxt=re.sub('\\S+','',cleantxt)\n",
        "  return cleantxt"
      ],
      "metadata": {
        "id": "MhoyIiLVRhN7"
      },
      "execution_count": 154,
      "outputs": []
    },
    {
      "cell_type": "code",
      "source": [
        "dataset['ReviewText']=dataset['ReviewText'].apply(lambda x : cleanReview(x))"
      ],
      "metadata": {
        "id": "4sD2uAUjRlWA"
      },
      "execution_count": 155,
      "outputs": []
    },
    {
      "cell_type": "code",
      "source": [
        "dataset.head(10)"
      ],
      "metadata": {
        "colab": {
          "base_uri": "https://localhost:8080/",
          "height": 536
        },
        "id": "kwAqmhHfR2Vf",
        "outputId": "b86836a0-743c-4af5-b1cc-492487fb5bce"
      },
      "execution_count": 156,
      "outputs": [
        {
          "output_type": "execute_result",
          "data": {
            "text/plain": [
              "    ReviewedDate                                         ReviewText  \\\n",
              "0  3rd June 2024   Trip Verified  My partner and I were on the B...   \n",
              "1  1st June 2024  Not Verified   We had a Premium Economy return...   \n",
              "2  1st June 2024   Trip Verified   I should like to review my fl...   \n",
              "3  31st May 2024   Trip Verified  We have flown with British Air...   \n",
              "4  31st May 2024   Trip Verified  I sat in the plane at Vienna a...   \n",
              "5  30th May 2024   Trip Verified  It is almost 11pm we were supp...   \n",
              "6  29th May 2024   Trip Verified   I booked a long haul flight t...   \n",
              "7  26th May 2024   Trip Verified   A premium price for a subpar ...   \n",
              "8  20th May 2024   Trip Verified   Really terrible user experien...   \n",
              "9  18th May 2024   Trip Verified  Very impressed with BA Check i...   \n",
              "\n",
              "   SentimentScore  Reactiontype  \n",
              "0        0.044583             1  \n",
              "1       -0.018618             0  \n",
              "2        0.225600             1  \n",
              "3       -0.056360             0  \n",
              "4       -0.032143             0  \n",
              "5       -0.233333             0  \n",
              "6        0.102778             1  \n",
              "7       -0.122222             0  \n",
              "8       -0.050000             0  \n",
              "9        0.282548             1  "
            ],
            "text/html": [
              "\n",
              "  <div id=\"df-1ed7ecb3-7569-4bff-8c11-42afb75c0d13\" class=\"colab-df-container\">\n",
              "    <div>\n",
              "<style scoped>\n",
              "    .dataframe tbody tr th:only-of-type {\n",
              "        vertical-align: middle;\n",
              "    }\n",
              "\n",
              "    .dataframe tbody tr th {\n",
              "        vertical-align: top;\n",
              "    }\n",
              "\n",
              "    .dataframe thead th {\n",
              "        text-align: right;\n",
              "    }\n",
              "</style>\n",
              "<table border=\"1\" class=\"dataframe\">\n",
              "  <thead>\n",
              "    <tr style=\"text-align: right;\">\n",
              "      <th></th>\n",
              "      <th>ReviewedDate</th>\n",
              "      <th>ReviewText</th>\n",
              "      <th>SentimentScore</th>\n",
              "      <th>Reactiontype</th>\n",
              "    </tr>\n",
              "  </thead>\n",
              "  <tbody>\n",
              "    <tr>\n",
              "      <th>0</th>\n",
              "      <td>3rd June 2024</td>\n",
              "      <td>Trip Verified  My partner and I were on the B...</td>\n",
              "      <td>0.044583</td>\n",
              "      <td>1</td>\n",
              "    </tr>\n",
              "    <tr>\n",
              "      <th>1</th>\n",
              "      <td>1st June 2024</td>\n",
              "      <td>Not Verified   We had a Premium Economy return...</td>\n",
              "      <td>-0.018618</td>\n",
              "      <td>0</td>\n",
              "    </tr>\n",
              "    <tr>\n",
              "      <th>2</th>\n",
              "      <td>1st June 2024</td>\n",
              "      <td>Trip Verified   I should like to review my fl...</td>\n",
              "      <td>0.225600</td>\n",
              "      <td>1</td>\n",
              "    </tr>\n",
              "    <tr>\n",
              "      <th>3</th>\n",
              "      <td>31st May 2024</td>\n",
              "      <td>Trip Verified  We have flown with British Air...</td>\n",
              "      <td>-0.056360</td>\n",
              "      <td>0</td>\n",
              "    </tr>\n",
              "    <tr>\n",
              "      <th>4</th>\n",
              "      <td>31st May 2024</td>\n",
              "      <td>Trip Verified  I sat in the plane at Vienna a...</td>\n",
              "      <td>-0.032143</td>\n",
              "      <td>0</td>\n",
              "    </tr>\n",
              "    <tr>\n",
              "      <th>5</th>\n",
              "      <td>30th May 2024</td>\n",
              "      <td>Trip Verified  It is almost 11pm we were supp...</td>\n",
              "      <td>-0.233333</td>\n",
              "      <td>0</td>\n",
              "    </tr>\n",
              "    <tr>\n",
              "      <th>6</th>\n",
              "      <td>29th May 2024</td>\n",
              "      <td>Trip Verified   I booked a long haul flight t...</td>\n",
              "      <td>0.102778</td>\n",
              "      <td>1</td>\n",
              "    </tr>\n",
              "    <tr>\n",
              "      <th>7</th>\n",
              "      <td>26th May 2024</td>\n",
              "      <td>Trip Verified   A premium price for a subpar ...</td>\n",
              "      <td>-0.122222</td>\n",
              "      <td>0</td>\n",
              "    </tr>\n",
              "    <tr>\n",
              "      <th>8</th>\n",
              "      <td>20th May 2024</td>\n",
              "      <td>Trip Verified   Really terrible user experien...</td>\n",
              "      <td>-0.050000</td>\n",
              "      <td>0</td>\n",
              "    </tr>\n",
              "    <tr>\n",
              "      <th>9</th>\n",
              "      <td>18th May 2024</td>\n",
              "      <td>Trip Verified  Very impressed with BA Check i...</td>\n",
              "      <td>0.282548</td>\n",
              "      <td>1</td>\n",
              "    </tr>\n",
              "  </tbody>\n",
              "</table>\n",
              "</div>\n",
              "    <div class=\"colab-df-buttons\">\n",
              "\n",
              "  <div class=\"colab-df-container\">\n",
              "    <button class=\"colab-df-convert\" onclick=\"convertToInteractive('df-1ed7ecb3-7569-4bff-8c11-42afb75c0d13')\"\n",
              "            title=\"Convert this dataframe to an interactive table.\"\n",
              "            style=\"display:none;\">\n",
              "\n",
              "  <svg xmlns=\"http://www.w3.org/2000/svg\" height=\"24px\" viewBox=\"0 -960 960 960\">\n",
              "    <path d=\"M120-120v-720h720v720H120Zm60-500h600v-160H180v160Zm220 220h160v-160H400v160Zm0 220h160v-160H400v160ZM180-400h160v-160H180v160Zm440 0h160v-160H620v160ZM180-180h160v-160H180v160Zm440 0h160v-160H620v160Z\"/>\n",
              "  </svg>\n",
              "    </button>\n",
              "\n",
              "  <style>\n",
              "    .colab-df-container {\n",
              "      display:flex;\n",
              "      gap: 12px;\n",
              "    }\n",
              "\n",
              "    .colab-df-convert {\n",
              "      background-color: #E8F0FE;\n",
              "      border: none;\n",
              "      border-radius: 50%;\n",
              "      cursor: pointer;\n",
              "      display: none;\n",
              "      fill: #1967D2;\n",
              "      height: 32px;\n",
              "      padding: 0 0 0 0;\n",
              "      width: 32px;\n",
              "    }\n",
              "\n",
              "    .colab-df-convert:hover {\n",
              "      background-color: #E2EBFA;\n",
              "      box-shadow: 0px 1px 2px rgba(60, 64, 67, 0.3), 0px 1px 3px 1px rgba(60, 64, 67, 0.15);\n",
              "      fill: #174EA6;\n",
              "    }\n",
              "\n",
              "    .colab-df-buttons div {\n",
              "      margin-bottom: 4px;\n",
              "    }\n",
              "\n",
              "    [theme=dark] .colab-df-convert {\n",
              "      background-color: #3B4455;\n",
              "      fill: #D2E3FC;\n",
              "    }\n",
              "\n",
              "    [theme=dark] .colab-df-convert:hover {\n",
              "      background-color: #434B5C;\n",
              "      box-shadow: 0px 1px 3px 1px rgba(0, 0, 0, 0.15);\n",
              "      filter: drop-shadow(0px 1px 2px rgba(0, 0, 0, 0.3));\n",
              "      fill: #FFFFFF;\n",
              "    }\n",
              "  </style>\n",
              "\n",
              "    <script>\n",
              "      const buttonEl =\n",
              "        document.querySelector('#df-1ed7ecb3-7569-4bff-8c11-42afb75c0d13 button.colab-df-convert');\n",
              "      buttonEl.style.display =\n",
              "        google.colab.kernel.accessAllowed ? 'block' : 'none';\n",
              "\n",
              "      async function convertToInteractive(key) {\n",
              "        const element = document.querySelector('#df-1ed7ecb3-7569-4bff-8c11-42afb75c0d13');\n",
              "        const dataTable =\n",
              "          await google.colab.kernel.invokeFunction('convertToInteractive',\n",
              "                                                    [key], {});\n",
              "        if (!dataTable) return;\n",
              "\n",
              "        const docLinkHtml = 'Like what you see? Visit the ' +\n",
              "          '<a target=\"_blank\" href=https://colab.research.google.com/notebooks/data_table.ipynb>data table notebook</a>'\n",
              "          + ' to learn more about interactive tables.';\n",
              "        element.innerHTML = '';\n",
              "        dataTable['output_type'] = 'display_data';\n",
              "        await google.colab.output.renderOutput(dataTable, element);\n",
              "        const docLink = document.createElement('div');\n",
              "        docLink.innerHTML = docLinkHtml;\n",
              "        element.appendChild(docLink);\n",
              "      }\n",
              "    </script>\n",
              "  </div>\n",
              "\n",
              "\n",
              "<div id=\"df-f992934b-f1a9-480b-8de9-57d8f6cf6bdd\">\n",
              "  <button class=\"colab-df-quickchart\" onclick=\"quickchart('df-f992934b-f1a9-480b-8de9-57d8f6cf6bdd')\"\n",
              "            title=\"Suggest charts\"\n",
              "            style=\"display:none;\">\n",
              "\n",
              "<svg xmlns=\"http://www.w3.org/2000/svg\" height=\"24px\"viewBox=\"0 0 24 24\"\n",
              "     width=\"24px\">\n",
              "    <g>\n",
              "        <path d=\"M19 3H5c-1.1 0-2 .9-2 2v14c0 1.1.9 2 2 2h14c1.1 0 2-.9 2-2V5c0-1.1-.9-2-2-2zM9 17H7v-7h2v7zm4 0h-2V7h2v10zm4 0h-2v-4h2v4z\"/>\n",
              "    </g>\n",
              "</svg>\n",
              "  </button>\n",
              "\n",
              "<style>\n",
              "  .colab-df-quickchart {\n",
              "      --bg-color: #E8F0FE;\n",
              "      --fill-color: #1967D2;\n",
              "      --hover-bg-color: #E2EBFA;\n",
              "      --hover-fill-color: #174EA6;\n",
              "      --disabled-fill-color: #AAA;\n",
              "      --disabled-bg-color: #DDD;\n",
              "  }\n",
              "\n",
              "  [theme=dark] .colab-df-quickchart {\n",
              "      --bg-color: #3B4455;\n",
              "      --fill-color: #D2E3FC;\n",
              "      --hover-bg-color: #434B5C;\n",
              "      --hover-fill-color: #FFFFFF;\n",
              "      --disabled-bg-color: #3B4455;\n",
              "      --disabled-fill-color: #666;\n",
              "  }\n",
              "\n",
              "  .colab-df-quickchart {\n",
              "    background-color: var(--bg-color);\n",
              "    border: none;\n",
              "    border-radius: 50%;\n",
              "    cursor: pointer;\n",
              "    display: none;\n",
              "    fill: var(--fill-color);\n",
              "    height: 32px;\n",
              "    padding: 0;\n",
              "    width: 32px;\n",
              "  }\n",
              "\n",
              "  .colab-df-quickchart:hover {\n",
              "    background-color: var(--hover-bg-color);\n",
              "    box-shadow: 0 1px 2px rgba(60, 64, 67, 0.3), 0 1px 3px 1px rgba(60, 64, 67, 0.15);\n",
              "    fill: var(--button-hover-fill-color);\n",
              "  }\n",
              "\n",
              "  .colab-df-quickchart-complete:disabled,\n",
              "  .colab-df-quickchart-complete:disabled:hover {\n",
              "    background-color: var(--disabled-bg-color);\n",
              "    fill: var(--disabled-fill-color);\n",
              "    box-shadow: none;\n",
              "  }\n",
              "\n",
              "  .colab-df-spinner {\n",
              "    border: 2px solid var(--fill-color);\n",
              "    border-color: transparent;\n",
              "    border-bottom-color: var(--fill-color);\n",
              "    animation:\n",
              "      spin 1s steps(1) infinite;\n",
              "  }\n",
              "\n",
              "  @keyframes spin {\n",
              "    0% {\n",
              "      border-color: transparent;\n",
              "      border-bottom-color: var(--fill-color);\n",
              "      border-left-color: var(--fill-color);\n",
              "    }\n",
              "    20% {\n",
              "      border-color: transparent;\n",
              "      border-left-color: var(--fill-color);\n",
              "      border-top-color: var(--fill-color);\n",
              "    }\n",
              "    30% {\n",
              "      border-color: transparent;\n",
              "      border-left-color: var(--fill-color);\n",
              "      border-top-color: var(--fill-color);\n",
              "      border-right-color: var(--fill-color);\n",
              "    }\n",
              "    40% {\n",
              "      border-color: transparent;\n",
              "      border-right-color: var(--fill-color);\n",
              "      border-top-color: var(--fill-color);\n",
              "    }\n",
              "    60% {\n",
              "      border-color: transparent;\n",
              "      border-right-color: var(--fill-color);\n",
              "    }\n",
              "    80% {\n",
              "      border-color: transparent;\n",
              "      border-right-color: var(--fill-color);\n",
              "      border-bottom-color: var(--fill-color);\n",
              "    }\n",
              "    90% {\n",
              "      border-color: transparent;\n",
              "      border-bottom-color: var(--fill-color);\n",
              "    }\n",
              "  }\n",
              "</style>\n",
              "\n",
              "  <script>\n",
              "    async function quickchart(key) {\n",
              "      const quickchartButtonEl =\n",
              "        document.querySelector('#' + key + ' button');\n",
              "      quickchartButtonEl.disabled = true;  // To prevent multiple clicks.\n",
              "      quickchartButtonEl.classList.add('colab-df-spinner');\n",
              "      try {\n",
              "        const charts = await google.colab.kernel.invokeFunction(\n",
              "            'suggestCharts', [key], {});\n",
              "      } catch (error) {\n",
              "        console.error('Error during call to suggestCharts:', error);\n",
              "      }\n",
              "      quickchartButtonEl.classList.remove('colab-df-spinner');\n",
              "      quickchartButtonEl.classList.add('colab-df-quickchart-complete');\n",
              "    }\n",
              "    (() => {\n",
              "      let quickchartButtonEl =\n",
              "        document.querySelector('#df-f992934b-f1a9-480b-8de9-57d8f6cf6bdd button');\n",
              "      quickchartButtonEl.style.display =\n",
              "        google.colab.kernel.accessAllowed ? 'block' : 'none';\n",
              "    })();\n",
              "  </script>\n",
              "</div>\n",
              "\n",
              "    </div>\n",
              "  </div>\n"
            ],
            "application/vnd.google.colaboratory.intrinsic+json": {
              "type": "dataframe",
              "variable_name": "dataset",
              "summary": "{\n  \"name\": \"dataset\",\n  \"rows\": 10,\n  \"fields\": [\n    {\n      \"column\": \"ReviewedDate\",\n      \"properties\": {\n        \"dtype\": \"string\",\n        \"num_unique_values\": 8,\n        \"samples\": [\n          \"1st June 2024\",\n          \"26th May 2024\",\n          \"3rd June 2024\"\n        ],\n        \"semantic_type\": \"\",\n        \"description\": \"\"\n      }\n    },\n    {\n      \"column\": \"ReviewText\",\n      \"properties\": {\n        \"dtype\": \"string\",\n        \"num_unique_values\": 10,\n        \"samples\": [\n          \" Trip Verified   Really terrible user experience British Airways website is full of glitches I cant even choose my own seat due to cookie problems Never had this problem with any other airlines\",\n          \"Not Verified   We had a Premium Economy return flight Los Angeles to London The outbound flight was cancelled with under 12 hours notice, and we had to instead take an economy flight via Dublin to London Thats annoying but it happens What is really difficult to understand is BAs response since I raised this as a claim once our return flight had completed as I was instructed to do It is now nearly 5 months and there has been no response other than one in early March with the title weve not forgotten your case and Were really sorry youre still waiting for a response from us We know its been a long time since you contacted us and this isnt the service you should expect Rest assured weve not forgotten your case Our Customer Relations team are working extremely hard to respond to you as soon as possible Thank you for your continued patience You can check the status of your case here Please accept our most sincere apologies We look forward to speaking with you soon I called about a month ago to enquire and was told id be hearing within the week This is just extremely poor customer service, in addition to the inconvenience and stress of the latecancelled flight, delays and change in class of flight British Airways really seems to be on the decline, i have so many friends who are longtime customers like us who are having flights cancelled or delayed with little commitment to make it right I have been a member of their Flying Club for 20 years, is this how you treat loyal customers BA\",\n          \" Trip Verified  It is almost 11pm we were supposed to take off at 1920 we are still sitting on the plane at the airport The worst part is not the technical issue that has kept us grounded but the fact we have only been offered half a glass of water the entire time we have been on board Being hungry and dehydrated has not helped the situation\"\n        ],\n        \"semantic_type\": \"\",\n        \"description\": \"\"\n      }\n    },\n    {\n      \"column\": \"SentimentScore\",\n      \"properties\": {\n        \"dtype\": \"number\",\n        \"std\": 0.15552017200572085,\n        \"min\": -0.2333333333333333,\n        \"max\": 0.282548309178744,\n        \"num_unique_values\": 10,\n        \"samples\": [\n          -0.05,\n          -0.0186177248677248,\n          -0.2333333333333333\n        ],\n        \"semantic_type\": \"\",\n        \"description\": \"\"\n      }\n    },\n    {\n      \"column\": \"Reactiontype\",\n      \"properties\": {\n        \"dtype\": \"number\",\n        \"std\": 0,\n        \"min\": 0,\n        \"max\": 1,\n        \"num_unique_values\": 2,\n        \"samples\": [\n          0,\n          1\n        ],\n        \"semantic_type\": \"\",\n        \"description\": \"\"\n      }\n    }\n  ]\n}"
            }
          },
          "metadata": {},
          "execution_count": 156
        }
      ]
    },
    {
      "cell_type": "code",
      "source": [
        "X=dataset['ReviewText'].values\n",
        "X"
      ],
      "metadata": {
        "colab": {
          "base_uri": "https://localhost:8080/"
        },
        "id": "F-unzK6ZSqsz",
        "outputId": "a9a8c75c-39ae-4540-af0a-9c31e8804a93"
      },
      "execution_count": 157,
      "outputs": [
        {
          "output_type": "execute_result",
          "data": {
            "text/plain": [
              "array([' Trip Verified  My partner and I were on the BA2166 return flight from Tampa to Gatwick and I was very excited as had paid for a upgrade to Business Class, my partner flies BC with BA a lot for work but this was only my second time, we decided as it was the end of our holiday that have this will help us get some quality sleep Unfortunately that was not to be Also in Business Class were two families with children under 5 It was a very long flight listening to a toddler not just crying but screaming for seven out of the eight hours Now its not the childrens fault, I do however think that the cabin crew could have maybe internvene and helped a little more but also BA should have informed us as we paid alot of money and quite frankly could have saved that money and just had economy ticket as at least we would be a few grand better off What with that and how the checking in ground staff were treating us as if we were an inconvenience we will rethink BA moving forward',\n",
              "       'Not Verified   We had a Premium Economy return flight Los Angeles to London The outbound flight was cancelled with under 12 hours notice, and we had to instead take an economy flight via Dublin to London Thats annoying but it happens What is really difficult to understand is BAs response since I raised this as a claim once our return flight had completed as I was instructed to do It is now nearly 5 months and there has been no response other than one in early March with the title weve not forgotten your case and Were really sorry youre still waiting for a response from us We know its been a long time since you contacted us and this isnt the service you should expect Rest assured weve not forgotten your case Our Customer Relations team are working extremely hard to respond to you as soon as possible Thank you for your continued patience You can check the status of your case here Please accept our most sincere apologies We look forward to speaking with you soon I called about a month ago to enquire and was told id be hearing within the week This is just extremely poor customer service, in addition to the inconvenience and stress of the latecancelled flight, delays and change in class of flight British Airways really seems to be on the decline, i have so many friends who are longtime customers like us who are having flights cancelled or delayed with little commitment to make it right I have been a member of their Flying Club for 20 years, is this how you treat loyal customers BA',\n",
              "       ' Trip Verified   I should like to review my flight with British Airways from Hannover to London Heathrow Firstly, the website was very easy to use, however, I object to the policy put in place with regards to having to pay for preferred seating Checkingin online was a very easy process other than being presented with the fee to select a seat At the boarding gate in Hannover the staff were superb, they insisted that people with larger bags turned over the bags for checkin I was included in this The staff were very fair and polite and imposed this policy evenly and in a firm but polite manner The flight took off reasonably ontime The cabin crew were very good and coped really well with what was an entirely full flight The now usual small bottle of water and a tiny snack the size of a UK 50p coin were issued to the passengers On this flight, the Captain was very vocal in the nicest possible way He oozed a sense of professionalism and was well spoken with clear and informative announcements Disembarkation was orderly, however the cabin crew were nowhere to be seen when leaving the aircraft Given that this was a very short flight and given the full nature of the flight too the cabin crew deserve an applause for their professionalism This experience has turned around my less than positive experience with this airline a few months ago Well done to the ground staff and cabin crew for making this a pleasant and civilized journey',\n",
              "       ' Trip Verified  We have flown with British Airways a few times but this last trip was by far the worst experience We werent able to check in online because the system wouldnt accept any of our passport info, so we had to wait to check in upon arrival at the airport We arrived two hours before our scheduled departure The line was backed up with only 4 stations being staffed where there was room for at least 6 more attendants to help expedite check in We talked to a few people in line and they too were unable to check in online It took the desk attendants an hour to check in the people ahead of us We told the agent we had tried to check in online but it wouldnt accept our passports, she replied it was because they need to verify each passport personally I asked that wouldnt they verify them that way anyway I also let her know we attempted to move closer to the front of the plane and could see there were seats available but couldnt secure them because we couldnt finish check in She went on to tell us its a full flight so we wouldnt be able to choose our seats We reached the gate and ask the agents there about moving to another section and she confirmed there was no availability During the flight, the service was not what we expected based on previous flights We only saw the flight attendants during food service and twice to pickup trash Every time I went to the lavatory, there were at least 68 attendants standing around chatting, instead of taking care of the passengers The attendants seemed uninterested and inexperienced, even snapping at a confused passenger regarding their seat belt The flight attendants were disappointing to say the least No available air control vents above us, so no option to have any air flow other than what the whole plane had Upon landing, we went to the baggage carousel to claim our bags An hour later, still no bags Finally a message came over the loudspeakers that the elevator on the plane was broken and the ETA of the bags was still unknown About 30 minutes later, the bags started to slowly appear on the belt Overall, this was the worst BA flight weve experienced',\n",
              "       ' Trip Verified  I sat in the plane at Vienna airport for three hours and didnt take off After arriving in London, I was sent on my connecting flight, only to be told that the plane had already closed and that I should go back to the other terminal I was then flown to Johannesburg with Virgin and when I arrived my luggage had not been taken I only received it five days later I have been waiting for compensation for nine months Never again British Airways',\n",
              "       ' Trip Verified  It is almost 11pm we were supposed to take off at 1920 we are still sitting on the plane at the airport The worst part is not the technical issue that has kept us grounded but the fact we have only been offered half a glass of water the entire time we have been on board Being hungry and dehydrated has not helped the situation',\n",
              "       ' Trip Verified   I booked a long haul flight to Singapore with British Airways because I thought I could rely on them to provide good and reliable service Unfortunately this wasnt the case hence this review Knowing I would be able to fall asleep watching movies or TV shows on their in flight entertainment system was something I was looking forward to on this overnight flight However, my console didnt work and instead I had a loud screaming toddler in the seat behind me that kept kicking my seat and some babies in Front Only two hours into this already hell of a journey were we told that we should buy the WiFi pass for which we will get fully reimbursed I followed up several times throughout the flight with the cabin crew who assured me they will take a note of my seat number and someone from customer service will contact me with reimbursement This wasnt the case After waiting for several days I contacted them myself and instead of the 2199 reimbursement that I can use towards a nice meal on holiday theyve given me 5000 AVIOs I never want to fly with them again so why give me service points when I was told by cabin crew I would be refunded  the only reason I even bought this WiFi pass as its not even good enough to watch anything with because the connection quality is so poor What a waste of a flight and 22 These are 14 hrs of my life I will never get back and forever remember I will remember BA as the brand that once was that no longer is Their cabin crew seemed overworked and overwhelmed and even when you pressed the attention buzzer no one came If you can avoid booking with BA go ahead',\n",
              "       ' Trip Verified   A premium price for a subpar product  flew BA 031/032 LHR and HKG and return in May We had originally booked when the aircraft was allocated the club suites  paid for seat selection A couple of months prior to the trip, the aircraft was changed to the 2/3/2 layout with the yin/yang seat configuration We had been allocated 2 of the 3 middle seats, so paid again to select the window and aisle The hard product is poor  the seat space lacks any form of storage that remains accessible when the seat is in the flat position  nowhere to put specs, a book or phone Additionally, the window seat passenger has to climb over the feet of another passenger to use the toilet etc  really poor layout The planes on both legs of the journey were tired and shabby The crew on the outward journey were enthusiastic and helpful  the return crew seemed less adept at managing the service The outbound catering was acceptable  but the presentation on tiny plates does not compare favourably with competitors The catering inbound was very poor The welcome champagne was truly awful This is a poor product at a premium price  and sad to say, this pair of selffunding passengers wont choose to repeat the experience The lounge at Heathrow on the outbound sector was packed to the rafters and was a poor experience Very disappointing',\n",
              "       ' Trip Verified   Really terrible user experience British Airways website is full of glitches I cant even choose my own seat due to cookie problems Never had this problem with any other airlines',\n",
              "       ' Trip Verified  Very impressed with BA Check in online was a little convoluted but once through that everything was great We flew in standard economy and paid to choose our seats  this seems to be standard for all airlines now and how they keep initial prices down, but worth doing so we could sit together Meals were excellent and drinks great A simple water and biscuit on our short internal leg but still included and then 1 drink, 1 main meal and 1 snack on our 7 hour leg was better than our last trip on Emirates They gave out double drinks at drink service  that was 2 cokes and 2 beers for my partner and he was well pleased Staff friendly, bags transfered and arrived in good condition and entertainment on route was good too Will definitely choose BA again over other airlines'],\n",
              "      dtype=object)"
            ]
          },
          "metadata": {},
          "execution_count": 157
        }
      ]
    },
    {
      "cell_type": "code",
      "source": [
        "Y=dataset['Reactiontype'].values\n",
        "Y"
      ],
      "metadata": {
        "colab": {
          "base_uri": "https://localhost:8080/"
        },
        "id": "QvQAuQ5xS6wi",
        "outputId": "ffc8df1a-85a7-4224-d946-312115c670f9"
      },
      "execution_count": 158,
      "outputs": [
        {
          "output_type": "execute_result",
          "data": {
            "text/plain": [
              "array([1, 0, 1, 0, 0, 0, 1, 0, 0, 1])"
            ]
          },
          "metadata": {},
          "execution_count": 158
        }
      ]
    },
    {
      "cell_type": "code",
      "source": [
        "X_train, X_test, Y_train, Y_test = train_test_split(X, Y, train_size = 0.2,stratify = Y ,random_state = 5)"
      ],
      "metadata": {
        "id": "Tm881gR16MSd"
      },
      "execution_count": 159,
      "outputs": []
    },
    {
      "cell_type": "code",
      "source": [
        "print(X.shape,X_train.shape,\n",
        "X_test.shape,\n",
        "Y_train.shape,\n",
        "Y_test.shape)"
      ],
      "metadata": {
        "colab": {
          "base_uri": "https://localhost:8080/"
        },
        "id": "cN_fv4Wi6PWX",
        "outputId": "2db33f6f-d8db-4525-cf0d-1c5fe58e34df"
      },
      "execution_count": 160,
      "outputs": [
        {
          "output_type": "stream",
          "name": "stdout",
          "text": [
            "(10,) (2,) (8,) (2,) (8,)\n"
          ]
        }
      ]
    },
    {
      "cell_type": "code",
      "source": [
        "X_train"
      ],
      "metadata": {
        "colab": {
          "base_uri": "https://localhost:8080/"
        },
        "id": "F6T0iYuY7Cv6",
        "outputId": "e1ed75a7-721c-4ce2-cb6a-f4840a0bc591"
      },
      "execution_count": 161,
      "outputs": [
        {
          "output_type": "execute_result",
          "data": {
            "text/plain": [
              "array([' Trip Verified  My partner and I were on the BA2166 return flight from Tampa to Gatwick and I was very excited as had paid for a upgrade to Business Class, my partner flies BC with BA a lot for work but this was only my second time, we decided as it was the end of our holiday that have this will help us get some quality sleep Unfortunately that was not to be Also in Business Class were two families with children under 5 It was a very long flight listening to a toddler not just crying but screaming for seven out of the eight hours Now its not the childrens fault, I do however think that the cabin crew could have maybe internvene and helped a little more but also BA should have informed us as we paid alot of money and quite frankly could have saved that money and just had economy ticket as at least we would be a few grand better off What with that and how the checking in ground staff were treating us as if we were an inconvenience we will rethink BA moving forward',\n",
              "       ' Trip Verified   Really terrible user experience British Airways website is full of glitches I cant even choose my own seat due to cookie problems Never had this problem with any other airlines'],\n",
              "      dtype=object)"
            ]
          },
          "metadata": {},
          "execution_count": 161
        }
      ]
    },
    {
      "cell_type": "code",
      "source": [
        "X_test"
      ],
      "metadata": {
        "colab": {
          "base_uri": "https://localhost:8080/"
        },
        "id": "mitqz_hP7pXT",
        "outputId": "7acebae9-6d38-4156-8feb-74df3cc3484b"
      },
      "execution_count": 162,
      "outputs": [
        {
          "output_type": "execute_result",
          "data": {
            "text/plain": [
              "array([' Trip Verified  We have flown with British Airways a few times but this last trip was by far the worst experience We werent able to check in online because the system wouldnt accept any of our passport info, so we had to wait to check in upon arrival at the airport We arrived two hours before our scheduled departure The line was backed up with only 4 stations being staffed where there was room for at least 6 more attendants to help expedite check in We talked to a few people in line and they too were unable to check in online It took the desk attendants an hour to check in the people ahead of us We told the agent we had tried to check in online but it wouldnt accept our passports, she replied it was because they need to verify each passport personally I asked that wouldnt they verify them that way anyway I also let her know we attempted to move closer to the front of the plane and could see there were seats available but couldnt secure them because we couldnt finish check in She went on to tell us its a full flight so we wouldnt be able to choose our seats We reached the gate and ask the agents there about moving to another section and she confirmed there was no availability During the flight, the service was not what we expected based on previous flights We only saw the flight attendants during food service and twice to pickup trash Every time I went to the lavatory, there were at least 68 attendants standing around chatting, instead of taking care of the passengers The attendants seemed uninterested and inexperienced, even snapping at a confused passenger regarding their seat belt The flight attendants were disappointing to say the least No available air control vents above us, so no option to have any air flow other than what the whole plane had Upon landing, we went to the baggage carousel to claim our bags An hour later, still no bags Finally a message came over the loudspeakers that the elevator on the plane was broken and the ETA of the bags was still unknown About 30 minutes later, the bags started to slowly appear on the belt Overall, this was the worst BA flight weve experienced',\n",
              "       'Not Verified   We had a Premium Economy return flight Los Angeles to London The outbound flight was cancelled with under 12 hours notice, and we had to instead take an economy flight via Dublin to London Thats annoying but it happens What is really difficult to understand is BAs response since I raised this as a claim once our return flight had completed as I was instructed to do It is now nearly 5 months and there has been no response other than one in early March with the title weve not forgotten your case and Were really sorry youre still waiting for a response from us We know its been a long time since you contacted us and this isnt the service you should expect Rest assured weve not forgotten your case Our Customer Relations team are working extremely hard to respond to you as soon as possible Thank you for your continued patience You can check the status of your case here Please accept our most sincere apologies We look forward to speaking with you soon I called about a month ago to enquire and was told id be hearing within the week This is just extremely poor customer service, in addition to the inconvenience and stress of the latecancelled flight, delays and change in class of flight British Airways really seems to be on the decline, i have so many friends who are longtime customers like us who are having flights cancelled or delayed with little commitment to make it right I have been a member of their Flying Club for 20 years, is this how you treat loyal customers BA',\n",
              "       ' Trip Verified  Very impressed with BA Check in online was a little convoluted but once through that everything was great We flew in standard economy and paid to choose our seats  this seems to be standard for all airlines now and how they keep initial prices down, but worth doing so we could sit together Meals were excellent and drinks great A simple water and biscuit on our short internal leg but still included and then 1 drink, 1 main meal and 1 snack on our 7 hour leg was better than our last trip on Emirates They gave out double drinks at drink service  that was 2 cokes and 2 beers for my partner and he was well pleased Staff friendly, bags transfered and arrived in good condition and entertainment on route was good too Will definitely choose BA again over other airlines',\n",
              "       ' Trip Verified   I should like to review my flight with British Airways from Hannover to London Heathrow Firstly, the website was very easy to use, however, I object to the policy put in place with regards to having to pay for preferred seating Checkingin online was a very easy process other than being presented with the fee to select a seat At the boarding gate in Hannover the staff were superb, they insisted that people with larger bags turned over the bags for checkin I was included in this The staff were very fair and polite and imposed this policy evenly and in a firm but polite manner The flight took off reasonably ontime The cabin crew were very good and coped really well with what was an entirely full flight The now usual small bottle of water and a tiny snack the size of a UK 50p coin were issued to the passengers On this flight, the Captain was very vocal in the nicest possible way He oozed a sense of professionalism and was well spoken with clear and informative announcements Disembarkation was orderly, however the cabin crew were nowhere to be seen when leaving the aircraft Given that this was a very short flight and given the full nature of the flight too the cabin crew deserve an applause for their professionalism This experience has turned around my less than positive experience with this airline a few months ago Well done to the ground staff and cabin crew for making this a pleasant and civilized journey',\n",
              "       ' Trip Verified   A premium price for a subpar product  flew BA 031/032 LHR and HKG and return in May We had originally booked when the aircraft was allocated the club suites  paid for seat selection A couple of months prior to the trip, the aircraft was changed to the 2/3/2 layout with the yin/yang seat configuration We had been allocated 2 of the 3 middle seats, so paid again to select the window and aisle The hard product is poor  the seat space lacks any form of storage that remains accessible when the seat is in the flat position  nowhere to put specs, a book or phone Additionally, the window seat passenger has to climb over the feet of another passenger to use the toilet etc  really poor layout The planes on both legs of the journey were tired and shabby The crew on the outward journey were enthusiastic and helpful  the return crew seemed less adept at managing the service The outbound catering was acceptable  but the presentation on tiny plates does not compare favourably with competitors The catering inbound was very poor The welcome champagne was truly awful This is a poor product at a premium price  and sad to say, this pair of selffunding passengers wont choose to repeat the experience The lounge at Heathrow on the outbound sector was packed to the rafters and was a poor experience Very disappointing',\n",
              "       ' Trip Verified  It is almost 11pm we were supposed to take off at 1920 we are still sitting on the plane at the airport The worst part is not the technical issue that has kept us grounded but the fact we have only been offered half a glass of water the entire time we have been on board Being hungry and dehydrated has not helped the situation',\n",
              "       ' Trip Verified  I sat in the plane at Vienna airport for three hours and didnt take off After arriving in London, I was sent on my connecting flight, only to be told that the plane had already closed and that I should go back to the other terminal I was then flown to Johannesburg with Virgin and when I arrived my luggage had not been taken I only received it five days later I have been waiting for compensation for nine months Never again British Airways',\n",
              "       ' Trip Verified   I booked a long haul flight to Singapore with British Airways because I thought I could rely on them to provide good and reliable service Unfortunately this wasnt the case hence this review Knowing I would be able to fall asleep watching movies or TV shows on their in flight entertainment system was something I was looking forward to on this overnight flight However, my console didnt work and instead I had a loud screaming toddler in the seat behind me that kept kicking my seat and some babies in Front Only two hours into this already hell of a journey were we told that we should buy the WiFi pass for which we will get fully reimbursed I followed up several times throughout the flight with the cabin crew who assured me they will take a note of my seat number and someone from customer service will contact me with reimbursement This wasnt the case After waiting for several days I contacted them myself and instead of the 2199 reimbursement that I can use towards a nice meal on holiday theyve given me 5000 AVIOs I never want to fly with them again so why give me service points when I was told by cabin crew I would be refunded  the only reason I even bought this WiFi pass as its not even good enough to watch anything with because the connection quality is so poor What a waste of a flight and 22 These are 14 hrs of my life I will never get back and forever remember I will remember BA as the brand that once was that no longer is Their cabin crew seemed overworked and overwhelmed and even when you pressed the attention buzzer no one came If you can avoid booking with BA go ahead'],\n",
              "      dtype=object)"
            ]
          },
          "metadata": {},
          "execution_count": 162
        }
      ]
    },
    {
      "cell_type": "code",
      "source": [
        "#converting into integer using TfidfVectorizer"
      ],
      "metadata": {
        "id": "KZuMgPXT7rQW"
      },
      "execution_count": 163,
      "outputs": []
    },
    {
      "cell_type": "code",
      "source": [
        "vectorizer = TfidfVectorizer()\n",
        "\n",
        "X_train = vectorizer.fit_transform(X_train)\n",
        "X_test = vectorizer.fit_transform(X_test)"
      ],
      "metadata": {
        "id": "75n9Ex3I70af"
      },
      "execution_count": 164,
      "outputs": []
    },
    {
      "cell_type": "code",
      "source": [
        "X_train"
      ],
      "metadata": {
        "colab": {
          "base_uri": "https://localhost:8080/"
        },
        "id": "4A1SKqf_8afu",
        "outputId": "299eb536-e513-448f-ed2c-200ed726dbd3"
      },
      "execution_count": 165,
      "outputs": [
        {
          "output_type": "execute_result",
          "data": {
            "text/plain": [
              "<2x137 sparse matrix of type '<class 'numpy.float64'>'\n",
              "\twith 145 stored elements in Compressed Sparse Row format>"
            ]
          },
          "metadata": {},
          "execution_count": 165
        }
      ]
    },
    {
      "cell_type": "code",
      "source": [
        "X_test"
      ],
      "metadata": {
        "colab": {
          "base_uri": "https://localhost:8080/"
        },
        "id": "3cN0mBsw9m0W",
        "outputId": "a6928c0f-5d5f-4e22-99eb-ea7378f5cb0b"
      },
      "execution_count": 166,
      "outputs": [
        {
          "output_type": "execute_result",
          "data": {
            "text/plain": [
              "<8x650 sparse matrix of type '<class 'numpy.float64'>'\n",
              "\twith 1022 stored elements in Compressed Sparse Row format>"
            ]
          },
          "metadata": {},
          "execution_count": 166
        }
      ]
    },
    {
      "cell_type": "code",
      "source": [
        "\n",
        "print(X_train)"
      ],
      "metadata": {
        "colab": {
          "base_uri": "https://localhost:8080/"
        },
        "id": "gvQKHSou9uMI",
        "outputId": "8619972d-9fa7-4602-fcbf-d11a28e740fd"
      },
      "execution_count": 167,
      "outputs": [
        {
          "output_type": "stream",
          "name": "stdout",
          "text": [
            "  (0, 43)\t0.04933651098166767\n",
            "  (0, 77)\t0.04933651098166767\n",
            "  (0, 97)\t0.04933651098166767\n",
            "  (0, 62)\t0.04933651098166767\n",
            "  (0, 4)\t0.04933651098166767\n",
            "  (0, 60)\t0.04933651098166767\n",
            "  (0, 118)\t0.04933651098166767\n",
            "  (0, 107)\t0.04933651098166767\n",
            "  (0, 51)\t0.04933651098166767\n",
            "  (0, 19)\t0.04933651098166767\n",
            "  (0, 58)\t0.04933651098166767\n",
            "  (0, 132)\t0.04933651098166767\n",
            "  (0, 83)\t0.04933651098166767\n",
            "  (0, 13)\t0.04933651098166767\n",
            "  (0, 50)\t0.04933651098166767\n",
            "  (0, 39)\t0.04933651098166767\n",
            "  (0, 136)\t0.04933651098166767\n",
            "  (0, 69)\t0.04933651098166767\n",
            "  (0, 8)\t0.04933651098166767\n",
            "  (0, 114)\t0.04933651098166767\n",
            "  (0, 31)\t0.04933651098166767\n",
            "  (0, 99)\t0.04933651098166767\n",
            "  (0, 44)\t0.04933651098166767\n",
            "  (0, 95)\t0.04933651098166767\n",
            "  (0, 75)\t0.09867302196333534\n",
            "  :\t:\n",
            "  (1, 24)\t0.19227231375733936\n",
            "  (1, 30)\t0.19227231375733936\n",
            "  (1, 101)\t0.19227231375733936\n",
            "  (1, 89)\t0.19227231375733936\n",
            "  (1, 22)\t0.19227231375733936\n",
            "  (1, 34)\t0.19227231375733936\n",
            "  (1, 18)\t0.19227231375733936\n",
            "  (1, 49)\t0.19227231375733936\n",
            "  (1, 46)\t0.19227231375733936\n",
            "  (1, 65)\t0.19227231375733936\n",
            "  (1, 130)\t0.19227231375733936\n",
            "  (1, 1)\t0.19227231375733936\n",
            "  (1, 14)\t0.19227231375733936\n",
            "  (1, 36)\t0.19227231375733936\n",
            "  (1, 125)\t0.19227231375733936\n",
            "  (1, 109)\t0.19227231375733936\n",
            "  (1, 96)\t0.19227231375733936\n",
            "  (1, 82)\t0.1368033348164358\n",
            "  (1, 113)\t0.1368033348164358\n",
            "  (1, 134)\t0.1368033348164358\n",
            "  (1, 52)\t0.1368033348164358\n",
            "  (1, 116)\t0.1368033348164358\n",
            "  (1, 78)\t0.1368033348164358\n",
            "  (1, 126)\t0.1368033348164358\n",
            "  (1, 119)\t0.1368033348164358\n"
          ]
        }
      ]
    },
    {
      "cell_type": "code",
      "source": [
        "print(X_test)"
      ],
      "metadata": {
        "colab": {
          "base_uri": "https://localhost:8080/"
        },
        "id": "vVJOTTPy9yzr",
        "outputId": "774314d6-2026-461d-fdd7-2b28788eb1d8"
      },
      "execution_count": 168,
      "outputs": [
        {
          "output_type": "stream",
          "name": "stdout",
          "text": [
            "  (0, 202)\t0.03691629738542706\n",
            "  (0, 624)\t0.03093873833329659\n",
            "  (0, 71)\t0.02072003363895944\n",
            "  (0, 397)\t0.03691629738542706\n",
            "  (0, 50)\t0.03691629738542706\n",
            "  (0, 509)\t0.03691629738542706\n",
            "  (0, 527)\t0.03691629738542706\n",
            "  (0, 352)\t0.03691629738542706\n",
            "  (0, 9)\t0.03691629738542706\n",
            "  (0, 592)\t0.03691629738542706\n",
            "  (0, 191)\t0.03691629738542706\n",
            "  (0, 99)\t0.03691629738542706\n",
            "  (0, 183)\t0.03691629738542706\n",
            "  (0, 334)\t0.03691629738542706\n",
            "  (0, 396)\t0.02340790455662541\n",
            "  (0, 106)\t0.03093873833329659\n",
            "  (0, 350)\t0.03691629738542706\n",
            "  (0, 212)\t0.03691629738542706\n",
            "  (0, 530)\t0.04681580911325082\n",
            "  (0, 312)\t0.06187747666659318\n",
            "  (0, 76)\t0.10679037076435965\n",
            "  (0, 123)\t0.03093873833329659\n",
            "  (0, 111)\t0.03691629738542706\n",
            "  (0, 75)\t0.03691629738542706\n",
            "  (0, 308)\t0.03691629738542706\n",
            "  :\t:\n",
            "  (7, 41)\t0.19443188179182253\n",
            "  (7, 227)\t0.048296146457254774\n",
            "  (7, 384)\t0.06860363314241799\n",
            "  (7, 593)\t0.04533745960413157\n",
            "  (7, 271)\t0.034301816571208996\n",
            "  (7, 585)\t0.04533745960413157\n",
            "  (7, 249)\t0.030363025084690853\n",
            "  (7, 513)\t0.06072605016938171\n",
            "  (7, 377)\t0.13516412166884176\n",
            "  (7, 537)\t0.04533745960413157\n",
            "  (7, 80)\t0.09067491920826314\n",
            "  (7, 280)\t0.07244421968588216\n",
            "  (7, 568)\t0.12962125452788167\n",
            "  (7, 13)\t0.04533745960413157\n",
            "  (7, 550)\t0.26562880551490126\n",
            "  (7, 103)\t0.04533745960413157\n",
            "  (7, 609)\t0.09659229291450955\n",
            "  (7, 558)\t0.1621969460026101\n",
            "  (7, 564)\t0.04533745960413157\n",
            "  (7, 33)\t0.030363025084690853\n",
            "  (7, 98)\t0.030363025084690853\n",
            "  (7, 635)\t0.14488843937176432\n",
            "  (7, 616)\t0.08109847300130504\n",
            "  (7, 599)\t0.021603542421313616\n",
            "  (7, 580)\t0.024148073228627387\n"
          ]
        }
      ]
    },
    {
      "cell_type": "code",
      "source": [
        "# model\n",
        "\n",
        "Model1 = LogisticRegression()"
      ],
      "metadata": {
        "id": "wFtmjPk6_WfU"
      },
      "execution_count": 169,
      "outputs": []
    },
    {
      "cell_type": "code",
      "source": [
        "Model1.fit(X_train, Y_train)"
      ],
      "metadata": {
        "colab": {
          "base_uri": "https://localhost:8080/",
          "height": 74
        },
        "id": "mAkL6z-yPd74",
        "outputId": "fc2bc479-1e5c-424a-fae0-dd79b983ca7c"
      },
      "execution_count": 170,
      "outputs": [
        {
          "output_type": "execute_result",
          "data": {
            "text/plain": [
              "LogisticRegression()"
            ],
            "text/html": [
              "<style>#sk-container-id-6 {color: black;background-color: white;}#sk-container-id-6 pre{padding: 0;}#sk-container-id-6 div.sk-toggleable {background-color: white;}#sk-container-id-6 label.sk-toggleable__label {cursor: pointer;display: block;width: 100%;margin-bottom: 0;padding: 0.3em;box-sizing: border-box;text-align: center;}#sk-container-id-6 label.sk-toggleable__label-arrow:before {content: \"▸\";float: left;margin-right: 0.25em;color: #696969;}#sk-container-id-6 label.sk-toggleable__label-arrow:hover:before {color: black;}#sk-container-id-6 div.sk-estimator:hover label.sk-toggleable__label-arrow:before {color: black;}#sk-container-id-6 div.sk-toggleable__content {max-height: 0;max-width: 0;overflow: hidden;text-align: left;background-color: #f0f8ff;}#sk-container-id-6 div.sk-toggleable__content pre {margin: 0.2em;color: black;border-radius: 0.25em;background-color: #f0f8ff;}#sk-container-id-6 input.sk-toggleable__control:checked~div.sk-toggleable__content {max-height: 200px;max-width: 100%;overflow: auto;}#sk-container-id-6 input.sk-toggleable__control:checked~label.sk-toggleable__label-arrow:before {content: \"▾\";}#sk-container-id-6 div.sk-estimator input.sk-toggleable__control:checked~label.sk-toggleable__label {background-color: #d4ebff;}#sk-container-id-6 div.sk-label input.sk-toggleable__control:checked~label.sk-toggleable__label {background-color: #d4ebff;}#sk-container-id-6 input.sk-hidden--visually {border: 0;clip: rect(1px 1px 1px 1px);clip: rect(1px, 1px, 1px, 1px);height: 1px;margin: -1px;overflow: hidden;padding: 0;position: absolute;width: 1px;}#sk-container-id-6 div.sk-estimator {font-family: monospace;background-color: #f0f8ff;border: 1px dotted black;border-radius: 0.25em;box-sizing: border-box;margin-bottom: 0.5em;}#sk-container-id-6 div.sk-estimator:hover {background-color: #d4ebff;}#sk-container-id-6 div.sk-parallel-item::after {content: \"\";width: 100%;border-bottom: 1px solid gray;flex-grow: 1;}#sk-container-id-6 div.sk-label:hover label.sk-toggleable__label {background-color: #d4ebff;}#sk-container-id-6 div.sk-serial::before {content: \"\";position: absolute;border-left: 1px solid gray;box-sizing: border-box;top: 0;bottom: 0;left: 50%;z-index: 0;}#sk-container-id-6 div.sk-serial {display: flex;flex-direction: column;align-items: center;background-color: white;padding-right: 0.2em;padding-left: 0.2em;position: relative;}#sk-container-id-6 div.sk-item {position: relative;z-index: 1;}#sk-container-id-6 div.sk-parallel {display: flex;align-items: stretch;justify-content: center;background-color: white;position: relative;}#sk-container-id-6 div.sk-item::before, #sk-container-id-6 div.sk-parallel-item::before {content: \"\";position: absolute;border-left: 1px solid gray;box-sizing: border-box;top: 0;bottom: 0;left: 50%;z-index: -1;}#sk-container-id-6 div.sk-parallel-item {display: flex;flex-direction: column;z-index: 1;position: relative;background-color: white;}#sk-container-id-6 div.sk-parallel-item:first-child::after {align-self: flex-end;width: 50%;}#sk-container-id-6 div.sk-parallel-item:last-child::after {align-self: flex-start;width: 50%;}#sk-container-id-6 div.sk-parallel-item:only-child::after {width: 0;}#sk-container-id-6 div.sk-dashed-wrapped {border: 1px dashed gray;margin: 0 0.4em 0.5em 0.4em;box-sizing: border-box;padding-bottom: 0.4em;background-color: white;}#sk-container-id-6 div.sk-label label {font-family: monospace;font-weight: bold;display: inline-block;line-height: 1.2em;}#sk-container-id-6 div.sk-label-container {text-align: center;}#sk-container-id-6 div.sk-container {/* jupyter's `normalize.less` sets `[hidden] { display: none; }` but bootstrap.min.css set `[hidden] { display: none !important; }` so we also need the `!important` here to be able to override the default hidden behavior on the sphinx rendered scikit-learn.org. See: https://github.com/scikit-learn/scikit-learn/issues/21755 */display: inline-block !important;position: relative;}#sk-container-id-6 div.sk-text-repr-fallback {display: none;}</style><div id=\"sk-container-id-6\" class=\"sk-top-container\"><div class=\"sk-text-repr-fallback\"><pre>LogisticRegression()</pre><b>In a Jupyter environment, please rerun this cell to show the HTML representation or trust the notebook. <br />On GitHub, the HTML representation is unable to render, please try loading this page with nbviewer.org.</b></div><div class=\"sk-container\" hidden><div class=\"sk-item\"><div class=\"sk-estimator sk-toggleable\"><input class=\"sk-toggleable__control sk-hidden--visually\" id=\"sk-estimator-id-6\" type=\"checkbox\" checked><label for=\"sk-estimator-id-6\" class=\"sk-toggleable__label sk-toggleable__label-arrow\">LogisticRegression</label><div class=\"sk-toggleable__content\"><pre>LogisticRegression()</pre></div></div></div></div></div>"
            ]
          },
          "metadata": {},
          "execution_count": 170
        }
      ]
    },
    {
      "cell_type": "code",
      "source": [
        "# Prediction\n",
        "\n",
        "X_train_prediction = Model1.predict(X_train)\n",
        "training_data_accuracy = accuracy_score(Y_train,X_train_prediction)"
      ],
      "metadata": {
        "id": "O7TL8J4DPmyD"
      },
      "execution_count": 171,
      "outputs": []
    },
    {
      "cell_type": "code",
      "source": [
        "print(training_data_accuracy)"
      ],
      "metadata": {
        "colab": {
          "base_uri": "https://localhost:8080/"
        },
        "id": "zOIJUnKBQgcD",
        "outputId": "f1ec0a79-de63-409f-c5ea-012c78828a04"
      },
      "execution_count": 172,
      "outputs": [
        {
          "output_type": "stream",
          "name": "stdout",
          "text": [
            "1.0\n"
          ]
        }
      ]
    },
    {
      "cell_type": "code",
      "source": [
        "print(\"Shape of X_train:\", X_train.shape)\n",
        "print(\"Shape of X_test:\", X_test.shape)"
      ],
      "metadata": {
        "colab": {
          "base_uri": "https://localhost:8080/"
        },
        "id": "QRCakZwDtF1f",
        "outputId": "b98b75be-cbb4-48d6-c84f-d1473245377c"
      },
      "execution_count": 173,
      "outputs": [
        {
          "output_type": "stream",
          "name": "stdout",
          "text": [
            "Shape of X_train: (2, 137)\n",
            "Shape of X_test: (8, 650)\n"
          ]
        }
      ]
    },
    {
      "cell_type": "code",
      "source": [
        "Model2 = LogisticRegression()"
      ],
      "metadata": {
        "id": "sx8aPxwAtLWj"
      },
      "execution_count": 174,
      "outputs": []
    },
    {
      "cell_type": "code",
      "source": [
        "Model2.fit(X_test, Y_test)"
      ],
      "metadata": {
        "colab": {
          "base_uri": "https://localhost:8080/",
          "height": 74
        },
        "id": "aGgcRsIrtRK9",
        "outputId": "7685bc5c-b47e-4ebc-8395-b09c507cd286"
      },
      "execution_count": 175,
      "outputs": [
        {
          "output_type": "execute_result",
          "data": {
            "text/plain": [
              "LogisticRegression()"
            ],
            "text/html": [
              "<style>#sk-container-id-7 {color: black;background-color: white;}#sk-container-id-7 pre{padding: 0;}#sk-container-id-7 div.sk-toggleable {background-color: white;}#sk-container-id-7 label.sk-toggleable__label {cursor: pointer;display: block;width: 100%;margin-bottom: 0;padding: 0.3em;box-sizing: border-box;text-align: center;}#sk-container-id-7 label.sk-toggleable__label-arrow:before {content: \"▸\";float: left;margin-right: 0.25em;color: #696969;}#sk-container-id-7 label.sk-toggleable__label-arrow:hover:before {color: black;}#sk-container-id-7 div.sk-estimator:hover label.sk-toggleable__label-arrow:before {color: black;}#sk-container-id-7 div.sk-toggleable__content {max-height: 0;max-width: 0;overflow: hidden;text-align: left;background-color: #f0f8ff;}#sk-container-id-7 div.sk-toggleable__content pre {margin: 0.2em;color: black;border-radius: 0.25em;background-color: #f0f8ff;}#sk-container-id-7 input.sk-toggleable__control:checked~div.sk-toggleable__content {max-height: 200px;max-width: 100%;overflow: auto;}#sk-container-id-7 input.sk-toggleable__control:checked~label.sk-toggleable__label-arrow:before {content: \"▾\";}#sk-container-id-7 div.sk-estimator input.sk-toggleable__control:checked~label.sk-toggleable__label {background-color: #d4ebff;}#sk-container-id-7 div.sk-label input.sk-toggleable__control:checked~label.sk-toggleable__label {background-color: #d4ebff;}#sk-container-id-7 input.sk-hidden--visually {border: 0;clip: rect(1px 1px 1px 1px);clip: rect(1px, 1px, 1px, 1px);height: 1px;margin: -1px;overflow: hidden;padding: 0;position: absolute;width: 1px;}#sk-container-id-7 div.sk-estimator {font-family: monospace;background-color: #f0f8ff;border: 1px dotted black;border-radius: 0.25em;box-sizing: border-box;margin-bottom: 0.5em;}#sk-container-id-7 div.sk-estimator:hover {background-color: #d4ebff;}#sk-container-id-7 div.sk-parallel-item::after {content: \"\";width: 100%;border-bottom: 1px solid gray;flex-grow: 1;}#sk-container-id-7 div.sk-label:hover label.sk-toggleable__label {background-color: #d4ebff;}#sk-container-id-7 div.sk-serial::before {content: \"\";position: absolute;border-left: 1px solid gray;box-sizing: border-box;top: 0;bottom: 0;left: 50%;z-index: 0;}#sk-container-id-7 div.sk-serial {display: flex;flex-direction: column;align-items: center;background-color: white;padding-right: 0.2em;padding-left: 0.2em;position: relative;}#sk-container-id-7 div.sk-item {position: relative;z-index: 1;}#sk-container-id-7 div.sk-parallel {display: flex;align-items: stretch;justify-content: center;background-color: white;position: relative;}#sk-container-id-7 div.sk-item::before, #sk-container-id-7 div.sk-parallel-item::before {content: \"\";position: absolute;border-left: 1px solid gray;box-sizing: border-box;top: 0;bottom: 0;left: 50%;z-index: -1;}#sk-container-id-7 div.sk-parallel-item {display: flex;flex-direction: column;z-index: 1;position: relative;background-color: white;}#sk-container-id-7 div.sk-parallel-item:first-child::after {align-self: flex-end;width: 50%;}#sk-container-id-7 div.sk-parallel-item:last-child::after {align-self: flex-start;width: 50%;}#sk-container-id-7 div.sk-parallel-item:only-child::after {width: 0;}#sk-container-id-7 div.sk-dashed-wrapped {border: 1px dashed gray;margin: 0 0.4em 0.5em 0.4em;box-sizing: border-box;padding-bottom: 0.4em;background-color: white;}#sk-container-id-7 div.sk-label label {font-family: monospace;font-weight: bold;display: inline-block;line-height: 1.2em;}#sk-container-id-7 div.sk-label-container {text-align: center;}#sk-container-id-7 div.sk-container {/* jupyter's `normalize.less` sets `[hidden] { display: none; }` but bootstrap.min.css set `[hidden] { display: none !important; }` so we also need the `!important` here to be able to override the default hidden behavior on the sphinx rendered scikit-learn.org. See: https://github.com/scikit-learn/scikit-learn/issues/21755 */display: inline-block !important;position: relative;}#sk-container-id-7 div.sk-text-repr-fallback {display: none;}</style><div id=\"sk-container-id-7\" class=\"sk-top-container\"><div class=\"sk-text-repr-fallback\"><pre>LogisticRegression()</pre><b>In a Jupyter environment, please rerun this cell to show the HTML representation or trust the notebook. <br />On GitHub, the HTML representation is unable to render, please try loading this page with nbviewer.org.</b></div><div class=\"sk-container\" hidden><div class=\"sk-item\"><div class=\"sk-estimator sk-toggleable\"><input class=\"sk-toggleable__control sk-hidden--visually\" id=\"sk-estimator-id-7\" type=\"checkbox\" checked><label for=\"sk-estimator-id-7\" class=\"sk-toggleable__label sk-toggleable__label-arrow\">LogisticRegression</label><div class=\"sk-toggleable__content\"><pre>LogisticRegression()</pre></div></div></div></div></div>"
            ]
          },
          "metadata": {},
          "execution_count": 175
        }
      ]
    },
    {
      "cell_type": "code",
      "source": [
        "# Prediction\n",
        "\n",
        "X_test_prediction = Model2.predict(X_test)\n",
        "testing_data_accuracy = accuracy_score(Y_test,X_test_prediction)"
      ],
      "metadata": {
        "id": "UiCLOWznsrov"
      },
      "execution_count": 176,
      "outputs": []
    },
    {
      "cell_type": "code",
      "source": [
        "print(testing_data_accuracy )"
      ],
      "metadata": {
        "colab": {
          "base_uri": "https://localhost:8080/"
        },
        "id": "2c9xthSKtaYY",
        "outputId": "066ae514-6da0-4e7a-e508-c99389639ee4"
      },
      "execution_count": 177,
      "outputs": [
        {
          "output_type": "stream",
          "name": "stdout",
          "text": [
            "0.625\n"
          ]
        }
      ]
    },
    {
      "cell_type": "code",
      "source": [
        "#Saving the model\n"
      ],
      "metadata": {
        "id": "vs2Pf8k-S3nS"
      },
      "execution_count": 178,
      "outputs": []
    },
    {
      "cell_type": "code",
      "source": [
        "import pickle"
      ],
      "metadata": {
        "id": "erd65zyvTsy7"
      },
      "execution_count": 179,
      "outputs": []
    },
    {
      "cell_type": "code",
      "source": [
        "filename = 'pckl1.sav'\n",
        "pickle.dump(Model1,open(filename,'wb'))"
      ],
      "metadata": {
        "id": "1Rd3mCHmS5n1"
      },
      "execution_count": 187,
      "outputs": []
    },
    {
      "cell_type": "code",
      "source": [
        "filename1 = 'pckl2.sav'\n",
        "pickle.dump(Model2,open(filename1,'wb'))"
      ],
      "metadata": {
        "id": "9IjdHTeHtz-L"
      },
      "execution_count": 188,
      "outputs": []
    },
    {
      "cell_type": "code",
      "source": [
        "#loading the model\n"
      ],
      "metadata": {
        "id": "GuVp-F0OT1vl"
      },
      "execution_count": 182,
      "outputs": []
    },
    {
      "cell_type": "markdown",
      "source": [],
      "metadata": {
        "id": "UWdb58eJUnJ4"
      }
    },
    {
      "cell_type": "code",
      "source": [
        "loaded_model1 = pickle.load(open('/content/pckl1.sav','rb'))"
      ],
      "metadata": {
        "id": "hQO3p0xKu2bt"
      },
      "execution_count": 191,
      "outputs": []
    },
    {
      "cell_type": "code",
      "source": [
        "X_new1 = X_train[1]\n",
        "print(Y_train[1])\n",
        "\n",
        "prediction = Model1.predict(X_new1)\n",
        "print(prediction)\n",
        "\n",
        "if(prediction[0] == 0):\n",
        "  print('Negative Reaction')\n",
        "\n",
        "else:\n",
        "  print(\"Positive reaction\")\n"
      ],
      "metadata": {
        "colab": {
          "base_uri": "https://localhost:8080/"
        },
        "id": "r8GcJyWQu7_k",
        "outputId": "f055df0d-c446-475e-c92a-ea5f82c25515"
      },
      "execution_count": 194,
      "outputs": [
        {
          "output_type": "stream",
          "name": "stdout",
          "text": [
            "0\n",
            "[0]\n",
            "Negative Reaction\n"
          ]
        }
      ]
    },
    {
      "cell_type": "code",
      "source": [
        "loaded_model = pickle.load(open('/content/pckl2.sav','rb'))"
      ],
      "metadata": {
        "id": "G0Uv357DT3qp"
      },
      "execution_count": 183,
      "outputs": []
    },
    {
      "cell_type": "code",
      "source": [
        "#using this model for new predictions"
      ],
      "metadata": {
        "id": "PBwBVDspUqBb"
      },
      "execution_count": 184,
      "outputs": []
    },
    {
      "cell_type": "code",
      "source": [
        "X_new = X_test[2]\n",
        "print(Y_test[2])\n",
        "\n",
        "prediction = Model2.predict(X_new)\n",
        "print(prediction)\n",
        "\n",
        "if(prediction[0] == 0):\n",
        "  print('Negative Reaction')\n",
        "\n",
        "else:\n",
        "  print(\"Positive reaction\")\n"
      ],
      "metadata": {
        "colab": {
          "base_uri": "https://localhost:8080/"
        },
        "id": "O10UYooqU-w-",
        "outputId": "c09d831d-1c17-46fa-ab4a-e9604e726c9d"
      },
      "execution_count": 190,
      "outputs": [
        {
          "output_type": "stream",
          "name": "stdout",
          "text": [
            "1\n",
            "[0]\n",
            "Negative Reaction\n"
          ]
        }
      ]
    },
    {
      "cell_type": "code",
      "source": [],
      "metadata": {
        "id": "Lzvatw4FVBzP"
      },
      "execution_count": null,
      "outputs": []
    }
  ]
}